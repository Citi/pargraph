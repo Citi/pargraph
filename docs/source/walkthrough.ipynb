{
 "cells": [
  {
   "metadata": {},
   "cell_type": "markdown",
   "source": [
    "# Walkthrough\n",
    "\n",
    "In this walkthrough, we'll create our very own graphs using Pargraph."
   ],
   "id": "54a9fe493c76029b"
  },
  {
   "metadata": {},
   "cell_type": "markdown",
   "source": [
    "## Defining `delayed` functions\n",
    "\n",
    "`delayed` functions are pure and inseparable. These functions can be composed to implement graph functions and their pure nature allows them to be scheduled and executed concurrently across cores and/or hosts.\n",
    "\n",
    "In a graph, `delayed` functions represent the nodes and the edges represent the dependencies between them."
   ],
   "id": "5fc6423acb43c1a3"
  },
  {
   "metadata": {},
   "cell_type": "markdown",
   "source": [
    "### Example: NYC Yellow Taxi Fare Totals by Year\n",
    "\n",
    "NYC Taxi and Limousine Commission publishes [data](https://www.nyc.gov/site/tlc/about/tlc-trip-record-data.page) of every taxi trip since 2009. Each data file is in the [Parquet format](https://parquet.apache.org/) and contains each trip taken in a given month. Loading each file and processing them sequentially takes a very long time, so to speed it up we would like to load and process the files in parallel then perform an aggregation afterward.\n",
    "\n",
    "Here are some functions that we will need, defined as `delayed` functions:"
   ],
   "id": "5ca166291113d78b"
  },
  {
   "metadata": {
    "ExecuteTime": {
     "end_time": "2025-04-14T14:58:05.358797Z",
     "start_time": "2025-04-14T14:58:04.781471Z"
    }
   },
   "cell_type": "code",
   "source": [
    "import pandas as pd\n",
    "from pargraph import delayed\n",
    "\n",
    "\n",
    "@delayed\n",
    "def get_total_amount_sum(file_url, unit):\n",
    "    \"\"\"\n",
    "    Calculate the sum of the 'total_amount' column from a Parquet file and divide it by a given unit.\n",
    "\n",
    "    :param file_url: The URL of the Parquet file\n",
    "    :param unit: The unit to divide the total amount sum by\n",
    "    :return: The sum of the 'total_amount' column divided by the given unit\n",
    "    \"\"\"\n",
    "    return (\n",
    "        pd.read_parquet(file_url, columns=[\"total_amount\"])[\"total_amount\"].sum() / unit\n",
    "    )\n",
    "\n",
    "\n",
    "@delayed\n",
    "def add(*args):\n",
    "    \"\"\"\n",
    "    Calculate the sum of all the arguments provided.\n",
    "\n",
    "    :param args: A variable number of arguments to be summed\n",
    "    :return: The sum of all arguments\n",
    "    \"\"\"\n",
    "    return sum(args)\n",
    "\n",
    "\n",
    "@delayed\n",
    "def collect_result(*results):\n",
    "    \"\"\"\n",
    "    Collect results into a pandas Series, using every other element as the index and the remaining elements as the values.\n",
    "\n",
    "    :param results: A variable number of arguments where even-indexed elements are used as the index and odd-indexed elements as the values\n",
    "    :return: A pandas Series with the specified index and values\n",
    "    \"\"\"\n",
    "    return pd.Series(results[1::2], index=results[0::2])"
   ],
   "id": "d825a8db8927436e",
   "outputs": [],
   "execution_count": 1
  },
  {
   "metadata": {},
   "cell_type": "markdown",
   "source": "A `delayed` function retains the same call semantics as a normal Python function:",
   "id": "1cf30e4a0a792c1a"
  },
  {
   "metadata": {
    "ExecuteTime": {
     "end_time": "2025-04-14T14:58:05.368478Z",
     "start_time": "2025-04-14T14:58:05.363805Z"
    }
   },
   "cell_type": "code",
   "source": "add(1, 2)",
   "id": "b52578dd17b2133f",
   "outputs": [
    {
     "data": {
      "text/plain": [
       "3"
      ]
     },
     "execution_count": 2,
     "metadata": {},
     "output_type": "execute_result"
    }
   ],
   "execution_count": 2
  },
  {
   "metadata": {},
   "cell_type": "markdown",
   "source": [
    "## Defining `graph` functions\n",
    "\n",
    "`graph` functions contain a combination of `graph` and `delayed` functions. `graph` functions are to `delayed` functions as molecules are to atoms."
   ],
   "id": "f7376186fc74200c"
  },
  {
   "metadata": {
    "ExecuteTime": {
     "end_time": "2025-04-14T14:58:05.554021Z",
     "start_time": "2025-04-14T14:58:05.550972Z"
    }
   },
   "cell_type": "code",
   "source": [
    "from pargraph import graph\n",
    "\n",
    "URL = \"https://d37ci6vzurychx.cloudfront.net/trip-data/yellow_tripdata_{year}-{month:02}.parquet\"\n",
    "\n",
    "\n",
    "@graph\n",
    "def nyc_yellow_taxi_fare_total_for_year(year, unit):\n",
    "    \"\"\"\n",
    "    Calculate the total fare amount for a given year by summing the total amounts from each month.\n",
    "\n",
    "    :param year: The year for which to calculate the total fare amount\n",
    "    :param unit: The unit to divide the total amount sum by\n",
    "    :return: Total fare amount for the given year\n",
    "    \"\"\"\n",
    "    return add(\n",
    "        *(\n",
    "            get_total_amount_sum(URL.format(year=year, month=month), unit)\n",
    "            for month in range(1, 13)\n",
    "        )\n",
    "    )"
   ],
   "id": "18907642b86f7bbe",
   "outputs": [],
   "execution_count": 3
  },
  {
   "metadata": {},
   "cell_type": "markdown",
   "source": "A `graph` function retains the same call semantics as a normal Python function:",
   "id": "6ee53cde7282a3f6"
  },
  {
   "metadata": {
    "ExecuteTime": {
     "end_time": "2025-04-14T14:58:58.042235Z",
     "start_time": "2025-04-14T14:58:05.564832Z"
    }
   },
   "cell_type": "code",
   "source": "nyc_yellow_taxi_fare_total_for_year(year=2024, unit=1_000_000)",
   "id": "c46b57bd724dc395",
   "outputs": [
    {
     "data": {
      "text/plain": [
       "1145.8691257199998"
      ]
     },
     "execution_count": 4,
     "metadata": {},
     "output_type": "execute_result"
    }
   ],
   "execution_count": 4
  },
  {
   "metadata": {},
   "cell_type": "markdown",
   "source": [
    "## Converting to graphs\n",
    "\n",
    "Using `to_graph()`, we can generate a graph representation of the pipeline function we've created:"
   ],
   "id": "76199eabe09723f3"
  },
  {
   "metadata": {
    "ExecuteTime": {
     "end_time": "2025-04-14T14:58:58.052201Z",
     "start_time": "2025-04-14T14:58:58.047317Z"
    }
   },
   "cell_type": "code",
   "source": "nyc_yellow_taxi_fare_total_for_year.to_graph(year=2024)",
   "id": "932627b3af5e363a",
   "outputs": [
    {
     "data": {
      "text/plain": [
       "Graph(consts={ConstKey(key='_2b4a8a0d1c4540bcba120bf22b548b33'): Const(type='msgpack', value='2U9odHRwczovL2QzN2NpNnZ6dXJ5Y2h4LmNsb3VkZnJvbnQubmV0L3RyaXAtZGF0YS95ZWxsb3dfdHJpcGRhdGFfMjAyNC0wMS5wYXJxdWV0'), ConstKey(key='_dfb19e5cdf664641a82537a3fb00746c'): Const(type='msgpack', value='2U9odHRwczovL2QzN2NpNnZ6dXJ5Y2h4LmNsb3VkZnJvbnQubmV0L3RyaXAtZGF0YS95ZWxsb3dfdHJpcGRhdGFfMjAyNC0wMi5wYXJxdWV0'), ConstKey(key='_1bab762fa4bf4f5cb2800bf3db7d2b75'): Const(type='msgpack', value='2U9odHRwczovL2QzN2NpNnZ6dXJ5Y2h4LmNsb3VkZnJvbnQubmV0L3RyaXAtZGF0YS95ZWxsb3dfdHJpcGRhdGFfMjAyNC0wMy5wYXJxdWV0'), ConstKey(key='_ff769f99997b406583c8ddbbc9d9dd0e'): Const(type='msgpack', value='2U9odHRwczovL2QzN2NpNnZ6dXJ5Y2h4LmNsb3VkZnJvbnQubmV0L3RyaXAtZGF0YS95ZWxsb3dfdHJpcGRhdGFfMjAyNC0wNC5wYXJxdWV0'), ConstKey(key='_75fb6201a22f46fc9876eb1735b63546'): Const(type='msgpack', value='2U9odHRwczovL2QzN2NpNnZ6dXJ5Y2h4LmNsb3VkZnJvbnQubmV0L3RyaXAtZGF0YS95ZWxsb3dfdHJpcGRhdGFfMjAyNC0wNS5wYXJxdWV0'), ConstKey(key='_2f8cff99612c4bd09c71e967241e7fbd'): Const(type='msgpack', value='2U9odHRwczovL2QzN2NpNnZ6dXJ5Y2h4LmNsb3VkZnJvbnQubmV0L3RyaXAtZGF0YS95ZWxsb3dfdHJpcGRhdGFfMjAyNC0wNi5wYXJxdWV0'), ConstKey(key='_990a0d33f4c44747818dc5806943a1b1'): Const(type='msgpack', value='2U9odHRwczovL2QzN2NpNnZ6dXJ5Y2h4LmNsb3VkZnJvbnQubmV0L3RyaXAtZGF0YS95ZWxsb3dfdHJpcGRhdGFfMjAyNC0wNy5wYXJxdWV0'), ConstKey(key='_91614fbdd23841fb9186e45fdadc61c0'): Const(type='msgpack', value='2U9odHRwczovL2QzN2NpNnZ6dXJ5Y2h4LmNsb3VkZnJvbnQubmV0L3RyaXAtZGF0YS95ZWxsb3dfdHJpcGRhdGFfMjAyNC0wOC5wYXJxdWV0'), ConstKey(key='_179683cff2b94209a7097645c2587b49'): Const(type='msgpack', value='2U9odHRwczovL2QzN2NpNnZ6dXJ5Y2h4LmNsb3VkZnJvbnQubmV0L3RyaXAtZGF0YS95ZWxsb3dfdHJpcGRhdGFfMjAyNC0wOS5wYXJxdWV0'), ConstKey(key='_f2cf83d1721741aabfe3b0dce420379e'): Const(type='msgpack', value='2U9odHRwczovL2QzN2NpNnZ6dXJ5Y2h4LmNsb3VkZnJvbnQubmV0L3RyaXAtZGF0YS95ZWxsb3dfdHJpcGRhdGFfMjAyNC0xMC5wYXJxdWV0'), ConstKey(key='_fbfe7b630c374bdd93c911d743dcf7eb'): Const(type='msgpack', value='2U9odHRwczovL2QzN2NpNnZ6dXJ5Y2h4LmNsb3VkZnJvbnQubmV0L3RyaXAtZGF0YS95ZWxsb3dfdHJpcGRhdGFfMjAyNC0xMS5wYXJxdWV0'), ConstKey(key='_9f13bd84b7f240cdb31d67408fc69185'): Const(type='msgpack', value='2U9odHRwczovL2QzN2NpNnZ6dXJ5Y2h4LmNsb3VkZnJvbnQubmV0L3RyaXAtZGF0YS95ZWxsb3dfdHJpcGRhdGFfMjAyNC0xMi5wYXJxdWV0')}, inputs={InputKey(key='unit'): None}, nodes={NodeKey(key='get_total_amount_sum_2d8dce044dc94629ae978f471e9a4b27'): FunctionCall(function=<function get_total_amount_sum at 0x000001AAC2FB3A60>, args={'file_url': ConstKey(key='_2b4a8a0d1c4540bcba120bf22b548b33'), 'unit': InputKey(key='unit')}), NodeKey(key='get_total_amount_sum_5fd6d6d8a5f44649ad9e18325fa1d5fe'): FunctionCall(function=<function get_total_amount_sum at 0x000001AAC2FB3A60>, args={'file_url': ConstKey(key='_dfb19e5cdf664641a82537a3fb00746c'), 'unit': InputKey(key='unit')}), NodeKey(key='get_total_amount_sum_6513415006b942bdbad75203aed04e59'): FunctionCall(function=<function get_total_amount_sum at 0x000001AAC2FB3A60>, args={'file_url': ConstKey(key='_1bab762fa4bf4f5cb2800bf3db7d2b75'), 'unit': InputKey(key='unit')}), NodeKey(key='get_total_amount_sum_dc205da7c5cc4059b8b10ba4787de141'): FunctionCall(function=<function get_total_amount_sum at 0x000001AAC2FB3A60>, args={'file_url': ConstKey(key='_ff769f99997b406583c8ddbbc9d9dd0e'), 'unit': InputKey(key='unit')}), NodeKey(key='get_total_amount_sum_4ce85af8e4c84cdfabe19a05691dda9a'): FunctionCall(function=<function get_total_amount_sum at 0x000001AAC2FB3A60>, args={'file_url': ConstKey(key='_75fb6201a22f46fc9876eb1735b63546'), 'unit': InputKey(key='unit')}), NodeKey(key='get_total_amount_sum_d8553e95e0ca4b1390f240921abd0007'): FunctionCall(function=<function get_total_amount_sum at 0x000001AAC2FB3A60>, args={'file_url': ConstKey(key='_2f8cff99612c4bd09c71e967241e7fbd'), 'unit': InputKey(key='unit')}), NodeKey(key='get_total_amount_sum_6620f973d25a461580614a2e99685a93'): FunctionCall(function=<function get_total_amount_sum at 0x000001AAC2FB3A60>, args={'file_url': ConstKey(key='_990a0d33f4c44747818dc5806943a1b1'), 'unit': InputKey(key='unit')}), NodeKey(key='get_total_amount_sum_8487ed4445f6459b909e501d9e4bd0aa'): FunctionCall(function=<function get_total_amount_sum at 0x000001AAC2FB3A60>, args={'file_url': ConstKey(key='_91614fbdd23841fb9186e45fdadc61c0'), 'unit': InputKey(key='unit')}), NodeKey(key='get_total_amount_sum_6661917548034435b9693327fdb97623'): FunctionCall(function=<function get_total_amount_sum at 0x000001AAC2FB3A60>, args={'file_url': ConstKey(key='_179683cff2b94209a7097645c2587b49'), 'unit': InputKey(key='unit')}), NodeKey(key='get_total_amount_sum_a4af758ab3844b63b7de85fff5a3172a'): FunctionCall(function=<function get_total_amount_sum at 0x000001AAC2FB3A60>, args={'file_url': ConstKey(key='_f2cf83d1721741aabfe3b0dce420379e'), 'unit': InputKey(key='unit')}), NodeKey(key='get_total_amount_sum_23ffa717da794003984e34ecb82d802a'): FunctionCall(function=<function get_total_amount_sum at 0x000001AAC2FB3A60>, args={'file_url': ConstKey(key='_fbfe7b630c374bdd93c911d743dcf7eb'), 'unit': InputKey(key='unit')}), NodeKey(key='get_total_amount_sum_1feb5a75eeca467e933239c5d3d4f732'): FunctionCall(function=<function get_total_amount_sum at 0x000001AAC2FB3A60>, args={'file_url': ConstKey(key='_9f13bd84b7f240cdb31d67408fc69185'), 'unit': InputKey(key='unit')}), NodeKey(key='add_eff00a44974644dfb8071545ddb5dd37'): FunctionCall(function=<function add at 0x000001AAF37E09A0>, args={'0': NodeOutputKey(key='get_total_amount_sum_2d8dce044dc94629ae978f471e9a4b27', output='result'), '1': NodeOutputKey(key='get_total_amount_sum_5fd6d6d8a5f44649ad9e18325fa1d5fe', output='result'), '2': NodeOutputKey(key='get_total_amount_sum_6513415006b942bdbad75203aed04e59', output='result'), '3': NodeOutputKey(key='get_total_amount_sum_dc205da7c5cc4059b8b10ba4787de141', output='result'), '4': NodeOutputKey(key='get_total_amount_sum_4ce85af8e4c84cdfabe19a05691dda9a', output='result'), '5': NodeOutputKey(key='get_total_amount_sum_d8553e95e0ca4b1390f240921abd0007', output='result'), '6': NodeOutputKey(key='get_total_amount_sum_6620f973d25a461580614a2e99685a93', output='result'), '7': NodeOutputKey(key='get_total_amount_sum_8487ed4445f6459b909e501d9e4bd0aa', output='result'), '8': NodeOutputKey(key='get_total_amount_sum_6661917548034435b9693327fdb97623', output='result'), '9': NodeOutputKey(key='get_total_amount_sum_a4af758ab3844b63b7de85fff5a3172a', output='result'), '10': NodeOutputKey(key='get_total_amount_sum_23ffa717da794003984e34ecb82d802a', output='result'), '11': NodeOutputKey(key='get_total_amount_sum_1feb5a75eeca467e933239c5d3d4f732', output='result')})}, outputs={OutputKey(key='result'): NodeOutputKey(key='add_eff00a44974644dfb8071545ddb5dd37', output='result')})"
      ]
     },
     "execution_count": 5,
     "metadata": {},
     "output_type": "execute_result"
    }
   ],
   "execution_count": 5
  },
  {
   "metadata": {},
   "cell_type": "markdown",
   "source": "Graphs can also be converted to a task graph using `to_dict()`. Notice that all arguments must be provided in order to convert the graph to a task graph:",
   "id": "7f525eaa5185bece"
  },
  {
   "metadata": {
    "ExecuteTime": {
     "end_time": "2025-04-14T14:58:58.080269Z",
     "start_time": "2025-04-14T14:58:58.074571Z"
    }
   },
   "cell_type": "code",
   "source": "nyc_yellow_taxi_fare_total_for_year.to_graph(year=2024).to_dict(unit=1_000_000)",
   "id": "4897bf550f862808",
   "outputs": [
    {
     "data": {
      "text/plain": [
       "({'const_Const_22bddfa577ea4c858eb8e0aeac5ca4e0': 'https://d37ci6vzurychx.cloudfront.net/trip-data/yellow_tripdata_2024-01.parquet',\n",
       "  'const_Const_c37d2ea7a594424285bb160554d365a4': 'https://d37ci6vzurychx.cloudfront.net/trip-data/yellow_tripdata_2024-02.parquet',\n",
       "  'const_Const_19b894a119d74cfab8520f32cbae8f75': 'https://d37ci6vzurychx.cloudfront.net/trip-data/yellow_tripdata_2024-03.parquet',\n",
       "  'const_Const_d2eca83adc30467ba1b6d5cf7d46093e': 'https://d37ci6vzurychx.cloudfront.net/trip-data/yellow_tripdata_2024-04.parquet',\n",
       "  'const_Const_7ae7fd2841234a5a8f7386b4788384e0': 'https://d37ci6vzurychx.cloudfront.net/trip-data/yellow_tripdata_2024-05.parquet',\n",
       "  'const_Const_aab19f56cf3b4d51b3f0532b7485d536': 'https://d37ci6vzurychx.cloudfront.net/trip-data/yellow_tripdata_2024-06.parquet',\n",
       "  'const_Const_736a1f5be50f42ab89a32325f9db50c0': 'https://d37ci6vzurychx.cloudfront.net/trip-data/yellow_tripdata_2024-07.parquet',\n",
       "  'const_Const_104e0221d61945adb7f11268f0f9fdee': 'https://d37ci6vzurychx.cloudfront.net/trip-data/yellow_tripdata_2024-08.parquet',\n",
       "  'const_Const_4f086769cc3245558798fc5b4fdb5d0f': 'https://d37ci6vzurychx.cloudfront.net/trip-data/yellow_tripdata_2024-09.parquet',\n",
       "  'const_Const_ba852608eb694de0958d676b3b430940': 'https://d37ci6vzurychx.cloudfront.net/trip-data/yellow_tripdata_2024-10.parquet',\n",
       "  'const_Const_e9690dfc980e443ca1f321a3f864458e': 'https://d37ci6vzurychx.cloudfront.net/trip-data/yellow_tripdata_2024-11.parquet',\n",
       "  'const_Const_49f572270b10496fafd002f5f2344c45': 'https://d37ci6vzurychx.cloudfront.net/trip-data/yellow_tripdata_2024-12.parquet',\n",
       "  'input_unit_bb96debe1c5f480f93589e836f4e156c': 1000000,\n",
       "  'node_output_get_total_amount_sum_6fee4a6518764247b8de2d249272810a': (<function __main__.get_total_amount_sum(file_url, unit)>,\n",
       "   'const_Const_22bddfa577ea4c858eb8e0aeac5ca4e0',\n",
       "   'input_unit_bb96debe1c5f480f93589e836f4e156c'),\n",
       "  'node_output_get_total_amount_sum_ae374f2e96004f84b95f55d8ac8a08ac': (<function __main__.get_total_amount_sum(file_url, unit)>,\n",
       "   'const_Const_c37d2ea7a594424285bb160554d365a4',\n",
       "   'input_unit_bb96debe1c5f480f93589e836f4e156c'),\n",
       "  'node_output_get_total_amount_sum_c40297479e064da39ca6ad7a615fa618': (<function __main__.get_total_amount_sum(file_url, unit)>,\n",
       "   'const_Const_19b894a119d74cfab8520f32cbae8f75',\n",
       "   'input_unit_bb96debe1c5f480f93589e836f4e156c'),\n",
       "  'node_output_get_total_amount_sum_0740847276ba4fa9be487c49d8a0e2da': (<function __main__.get_total_amount_sum(file_url, unit)>,\n",
       "   'const_Const_d2eca83adc30467ba1b6d5cf7d46093e',\n",
       "   'input_unit_bb96debe1c5f480f93589e836f4e156c'),\n",
       "  'node_output_get_total_amount_sum_b0848d68bd1043bebb788c6245fc7b51': (<function __main__.get_total_amount_sum(file_url, unit)>,\n",
       "   'const_Const_7ae7fd2841234a5a8f7386b4788384e0',\n",
       "   'input_unit_bb96debe1c5f480f93589e836f4e156c'),\n",
       "  'node_output_get_total_amount_sum_17ea5faef84c4864a801276eed9541a0': (<function __main__.get_total_amount_sum(file_url, unit)>,\n",
       "   'const_Const_aab19f56cf3b4d51b3f0532b7485d536',\n",
       "   'input_unit_bb96debe1c5f480f93589e836f4e156c'),\n",
       "  'node_output_get_total_amount_sum_bd00359f3d564e99856f322eb504db89': (<function __main__.get_total_amount_sum(file_url, unit)>,\n",
       "   'const_Const_736a1f5be50f42ab89a32325f9db50c0',\n",
       "   'input_unit_bb96debe1c5f480f93589e836f4e156c'),\n",
       "  'node_output_get_total_amount_sum_b8d1af4dbbad4c74918815f33f9d4909': (<function __main__.get_total_amount_sum(file_url, unit)>,\n",
       "   'const_Const_104e0221d61945adb7f11268f0f9fdee',\n",
       "   'input_unit_bb96debe1c5f480f93589e836f4e156c'),\n",
       "  'node_output_get_total_amount_sum_0ea7100e98c74dcd8b41ef79999be830': (<function __main__.get_total_amount_sum(file_url, unit)>,\n",
       "   'const_Const_4f086769cc3245558798fc5b4fdb5d0f',\n",
       "   'input_unit_bb96debe1c5f480f93589e836f4e156c'),\n",
       "  'node_output_get_total_amount_sum_f2c987ca4fd54ca18e3dc459dabd38cb': (<function __main__.get_total_amount_sum(file_url, unit)>,\n",
       "   'const_Const_ba852608eb694de0958d676b3b430940',\n",
       "   'input_unit_bb96debe1c5f480f93589e836f4e156c'),\n",
       "  'node_output_get_total_amount_sum_5de103642b9b406d9342d3a6b129f2da': (<function __main__.get_total_amount_sum(file_url, unit)>,\n",
       "   'const_Const_e9690dfc980e443ca1f321a3f864458e',\n",
       "   'input_unit_bb96debe1c5f480f93589e836f4e156c'),\n",
       "  'node_output_get_total_amount_sum_41bc34d152dd47459219c0639cfd7ca7': (<function __main__.get_total_amount_sum(file_url, unit)>,\n",
       "   'const_Const_49f572270b10496fafd002f5f2344c45',\n",
       "   'input_unit_bb96debe1c5f480f93589e836f4e156c'),\n",
       "  'node_output_add_a5836b630b1c433d898a2aedd7761e55': (<function __main__.add(*args)>,\n",
       "   'node_output_get_total_amount_sum_6fee4a6518764247b8de2d249272810a',\n",
       "   'node_output_get_total_amount_sum_ae374f2e96004f84b95f55d8ac8a08ac',\n",
       "   'node_output_get_total_amount_sum_c40297479e064da39ca6ad7a615fa618',\n",
       "   'node_output_get_total_amount_sum_0740847276ba4fa9be487c49d8a0e2da',\n",
       "   'node_output_get_total_amount_sum_b0848d68bd1043bebb788c6245fc7b51',\n",
       "   'node_output_get_total_amount_sum_17ea5faef84c4864a801276eed9541a0',\n",
       "   'node_output_get_total_amount_sum_bd00359f3d564e99856f322eb504db89',\n",
       "   'node_output_get_total_amount_sum_b8d1af4dbbad4c74918815f33f9d4909',\n",
       "   'node_output_get_total_amount_sum_0ea7100e98c74dcd8b41ef79999be830',\n",
       "   'node_output_get_total_amount_sum_f2c987ca4fd54ca18e3dc459dabd38cb',\n",
       "   'node_output_get_total_amount_sum_5de103642b9b406d9342d3a6b129f2da',\n",
       "   'node_output_get_total_amount_sum_41bc34d152dd47459219c0639cfd7ca7')},\n",
       " ['node_output_add_a5836b630b1c433d898a2aedd7761e55'])"
      ]
     },
     "execution_count": 6,
     "metadata": {},
     "output_type": "execute_result"
    }
   ],
   "execution_count": 6
  },
  {
   "metadata": {},
   "cell_type": "markdown",
   "source": [
    "## Visualizing graphs\n",
    "\n",
    "The above outputs are hard to interpret and only particularly useful for a computer. Let's write a simple helper function to visualize the dot graphs we generate:"
   ],
   "id": "d4052d90d9276d70"
  },
  {
   "metadata": {
    "ExecuteTime": {
     "end_time": "2025-04-14T14:58:58.100162Z",
     "start_time": "2025-04-14T14:58:58.097033Z"
    }
   },
   "cell_type": "code",
   "source": [
    "from IPython.display import SVG\n",
    "\n",
    "\n",
    "def get_graph_image(dot_graph):\n",
    "    dot_graph.write_svg(\"temp.svg\")\n",
    "    return SVG(\"temp.svg\")"
   ],
   "id": "3b992fdafda239bd",
   "outputs": [],
   "execution_count": 7
  },
  {
   "metadata": {},
   "cell_type": "markdown",
   "source": "Using `to_dot()`, we can generate a dot graph:",
   "id": "2af693afb81efc05"
  },
  {
   "metadata": {
    "ExecuteTime": {
     "end_time": "2025-04-14T14:58:58.506478Z",
     "start_time": "2025-04-14T14:58:58.111340Z"
    }
   },
   "cell_type": "code",
   "source": "get_graph_image(nyc_yellow_taxi_fare_total_for_year.to_graph(year=2024).to_dot())",
   "id": "dbc1b76e6302dad5",
   "outputs": [
    {
     "data": {
      "text/plain": [
       "<IPython.core.display.SVG object>"
      ],
      "image/svg+xml": "<svg xmlns=\"http://www.w3.org/2000/svg\" xmlns:xlink=\"http://www.w3.org/1999/xlink\" width=\"997pt\" height=\"811pt\" viewBox=\"0.00 0.00 996.53 811.00\">\n<g id=\"graph0\" class=\"graph\" transform=\"scale(1 1) rotate(0) translate(4 807)\">\n<title>G</title>\n<polygon fill=\"white\" stroke=\"none\" points=\"-4,4 -4,-807 992.53,-807 992.53,4 -4,4\"/>\n<!-- get_total_amount_sum_7b4d5b8b546f489fbc79d4d61f1adda5 -->\n<g id=\"node1\" class=\"node\">\n<title>get_total_amount_sum_7b4d5b8b546f489fbc79d4d61f1adda5</title>\n<polygon fill=\"none\" stroke=\"black\" points=\"490.75,-748.5 490.75,-797.5 733.75,-797.5 733.75,-748.5 490.75,-748.5\"/>\n<text text-anchor=\"middle\" x=\"518.62\" y=\"-780.2\" font-family=\"Times New Roman,serif\" font-size=\"14.00\">file_url</text>\n<polyline fill=\"none\" stroke=\"black\" points=\"490.75,-773 546.5,-773\"/>\n<text text-anchor=\"middle\" x=\"518.62\" y=\"-755.7\" font-family=\"Times New Roman,serif\" font-size=\"14.00\">unit</text>\n<polyline fill=\"none\" stroke=\"black\" points=\"546.5,-748.5 546.5,-797.5\"/>\n<text text-anchor=\"middle\" x=\"617.12\" y=\"-767.95\" font-family=\"Times New Roman,serif\" font-size=\"14.00\">get_total_amount_sum</text>\n<polyline fill=\"none\" stroke=\"black\" points=\"687.75,-748.5 687.75,-797.5\"/>\n<text text-anchor=\"middle\" x=\"710.75\" y=\"-768.2\" font-family=\"Times New Roman,serif\" font-size=\"14.00\">result</text>\n</g>\n<!-- add_4618897898834042ad6f4045a5cf7381 -->\n<g id=\"node26\" class=\"node\">\n<title>add_4618897898834042ad6f4045a5cf7381</title>\n<polygon fill=\"none\" stroke=\"black\" points=\"769.75,-381 769.75,-417 889.75,-417 889.75,-381 769.75,-381\"/>\n<text text-anchor=\"middle\" x=\"789\" y=\"-394.2\" font-family=\"Times New Roman,serif\" font-size=\"14.00\">args</text>\n<polyline fill=\"none\" stroke=\"black\" points=\"808.25,-381.5 808.25,-417\"/>\n<text text-anchor=\"middle\" x=\"826\" y=\"-394.2\" font-family=\"Times New Roman,serif\" font-size=\"14.00\">add</text>\n<polyline fill=\"none\" stroke=\"black\" points=\"843.75,-381.5 843.75,-417\"/>\n<text text-anchor=\"middle\" x=\"866.75\" y=\"-394.2\" font-family=\"Times New Roman,serif\" font-size=\"14.00\">result</text>\n</g>\n<!-- get_total_amount_sum_7b4d5b8b546f489fbc79d4d61f1adda5&#45;&gt;add_4618897898834042ad6f4045a5cf7381 -->\n<g id=\"edge25\" class=\"edge\">\n<title>get_total_amount_sum_7b4d5b8b546f489fbc79d4d61f1adda5:outputs_result-&gt;add_4618897898834042ad6f4045a5cf7381:inputs_0</title>\n<path fill=\"none\" stroke=\"black\" d=\"M710.75,-748C710.75,-737.02 727.07,-747.71 733.75,-739 818.94,-627.99 685.45,-533.08 762.48,-426.35\"/>\n<polygon fill=\"black\" stroke=\"black\" points=\"765.19,-428.57 768.55,-418.52 759.66,-424.28 765.19,-428.57\"/>\n</g>\n<!-- const__51ec8314bcbb4487a323b227f32e3ae7 -->\n<g id=\"node2\" class=\"node\">\n<title>const__51ec8314bcbb4487a323b227f32e3ae7</title>\n<polygon fill=\"none\" stroke=\"black\" points=\"454.75,-803 0,-803 0,-767 454.75,-767 454.75,-803\"/>\n<text text-anchor=\"middle\" x=\"227.38\" y=\"-779.95\" font-family=\"Times New Roman,serif\" font-size=\"14.00\">https://d37ci6vzurychx.cloudfront.net/trip-data/yellow_tripdata_2024-01.parquet</text>\n</g>\n<!-- const__51ec8314bcbb4487a323b227f32e3ae7&#45;&gt;get_total_amount_sum_7b4d5b8b546f489fbc79d4d61f1adda5 -->\n<g id=\"edge1\" class=\"edge\">\n<title>const__51ec8314bcbb4487a323b227f32e3ae7-&gt;get_total_amount_sum_7b4d5b8b546f489fbc79d4d61f1adda5:inputs_file_url</title>\n<path fill=\"none\" stroke=\"black\" d=\"M455.21,-785.24C463.38,-785.25 471.5,-785.25 479.5,-785.25\"/>\n<polygon fill=\"black\" stroke=\"black\" points=\"479.24,-788.75 489.24,-785.25 479.24,-781.75 479.24,-788.75\"/>\n</g>\n<!-- input_unit -->\n<g id=\"node3\" class=\"node\">\n<title>input_unit</title>\n<polygon fill=\"none\" stroke=\"black\" points=\"264.4,-429 205.5,-429 190.35,-393 249.25,-393 264.4,-429\"/>\n<text text-anchor=\"middle\" x=\"227.38\" y=\"-405.95\" font-family=\"Times New Roman,serif\" font-size=\"14.00\">unit</text>\n</g>\n<!-- input_unit&#45;&gt;get_total_amount_sum_7b4d5b8b546f489fbc79d4d61f1adda5 -->\n<g id=\"edge2\" class=\"edge\">\n<title>input_unit-&gt;get_total_amount_sum_7b4d5b8b546f489fbc79d4d61f1adda5:inputs_unit</title>\n<path fill=\"none\" stroke=\"black\" d=\"M254.45,-404.96C301.7,-395.72 401.5,-384.34 454.75,-438 502.61,-486.22 428.31,-729.69 479.64,-758.05\"/>\n<polygon fill=\"black\" stroke=\"black\" points=\"478.74,-761.43 489.28,-760.39 480.39,-754.63 478.74,-761.43\"/>\n</g>\n<!-- get_total_amount_sum_264379d6f8544afea33e1a312a2b492b -->\n<g id=\"node4\" class=\"node\">\n<title>get_total_amount_sum_264379d6f8544afea33e1a312a2b492b</title>\n<polygon fill=\"none\" stroke=\"black\" points=\"490.75,-680.5 490.75,-729.5 733.75,-729.5 733.75,-680.5 490.75,-680.5\"/>\n<text text-anchor=\"middle\" x=\"518.62\" y=\"-712.2\" font-family=\"Times New Roman,serif\" font-size=\"14.00\">file_url</text>\n<polyline fill=\"none\" stroke=\"black\" points=\"490.75,-705 546.5,-705\"/>\n<text text-anchor=\"middle\" x=\"518.62\" y=\"-687.7\" font-family=\"Times New Roman,serif\" font-size=\"14.00\">unit</text>\n<polyline fill=\"none\" stroke=\"black\" points=\"546.5,-680.5 546.5,-729.5\"/>\n<text text-anchor=\"middle\" x=\"617.12\" y=\"-699.95\" font-family=\"Times New Roman,serif\" font-size=\"14.00\">get_total_amount_sum</text>\n<polyline fill=\"none\" stroke=\"black\" points=\"687.75,-680.5 687.75,-729.5\"/>\n<text text-anchor=\"middle\" x=\"710.75\" y=\"-700.2\" font-family=\"Times New Roman,serif\" font-size=\"14.00\">result</text>\n</g>\n<!-- input_unit&#45;&gt;get_total_amount_sum_264379d6f8544afea33e1a312a2b492b -->\n<g id=\"edge4\" class=\"edge\">\n<title>input_unit-&gt;get_total_amount_sum_264379d6f8544afea33e1a312a2b492b:inputs_unit</title>\n<path fill=\"none\" stroke=\"black\" d=\"M254.67,-405.04C301.82,-396.06 400.86,-385.27 454.75,-438 492.58,-475.02 442.22,-661.83 479.9,-689.36\"/>\n<polygon fill=\"black\" stroke=\"black\" points=\"478.72,-692.66 489.31,-692.3 480.8,-685.98 478.72,-692.66\"/>\n</g>\n<!-- get_total_amount_sum_9c9a50aaa1b84a0c95a2ca3b1d18a0d6 -->\n<g id=\"node6\" class=\"node\">\n<title>get_total_amount_sum_9c9a50aaa1b84a0c95a2ca3b1d18a0d6</title>\n<polygon fill=\"none\" stroke=\"black\" points=\"490.75,-612.5 490.75,-661.5 733.75,-661.5 733.75,-612.5 490.75,-612.5\"/>\n<text text-anchor=\"middle\" x=\"518.62\" y=\"-644.2\" font-family=\"Times New Roman,serif\" font-size=\"14.00\">file_url</text>\n<polyline fill=\"none\" stroke=\"black\" points=\"490.75,-637 546.5,-637\"/>\n<text text-anchor=\"middle\" x=\"518.62\" y=\"-619.7\" font-family=\"Times New Roman,serif\" font-size=\"14.00\">unit</text>\n<polyline fill=\"none\" stroke=\"black\" points=\"546.5,-612.5 546.5,-661.5\"/>\n<text text-anchor=\"middle\" x=\"617.12\" y=\"-631.95\" font-family=\"Times New Roman,serif\" font-size=\"14.00\">get_total_amount_sum</text>\n<polyline fill=\"none\" stroke=\"black\" points=\"687.75,-612.5 687.75,-661.5\"/>\n<text text-anchor=\"middle\" x=\"710.75\" y=\"-632.2\" font-family=\"Times New Roman,serif\" font-size=\"14.00\">result</text>\n</g>\n<!-- input_unit&#45;&gt;get_total_amount_sum_9c9a50aaa1b84a0c95a2ca3b1d18a0d6 -->\n<g id=\"edge6\" class=\"edge\">\n<title>input_unit-&gt;get_total_amount_sum_9c9a50aaa1b84a0c95a2ca3b1d18a0d6:inputs_unit</title>\n<path fill=\"none\" stroke=\"black\" d=\"M254.78,-405.24C301.67,-396.71 399.7,-386.77 454.75,-438 513.48,-492.66 416.99,-611.82 479.33,-623.78\"/>\n<polygon fill=\"black\" stroke=\"black\" points=\"478.98,-627.26 489.24,-624.62 479.58,-620.28 478.98,-627.26\"/>\n</g>\n<!-- get_total_amount_sum_03b66ea51ac8437a86f464e3988514b1 -->\n<g id=\"node8\" class=\"node\">\n<title>get_total_amount_sum_03b66ea51ac8437a86f464e3988514b1</title>\n<polygon fill=\"none\" stroke=\"black\" points=\"490.75,-544.5 490.75,-593.5 733.75,-593.5 733.75,-544.5 490.75,-544.5\"/>\n<text text-anchor=\"middle\" x=\"518.62\" y=\"-576.2\" font-family=\"Times New Roman,serif\" font-size=\"14.00\">file_url</text>\n<polyline fill=\"none\" stroke=\"black\" points=\"490.75,-569 546.5,-569\"/>\n<text text-anchor=\"middle\" x=\"518.62\" y=\"-551.7\" font-family=\"Times New Roman,serif\" font-size=\"14.00\">unit</text>\n<polyline fill=\"none\" stroke=\"black\" points=\"546.5,-544.5 546.5,-593.5\"/>\n<text text-anchor=\"middle\" x=\"617.12\" y=\"-563.95\" font-family=\"Times New Roman,serif\" font-size=\"14.00\">get_total_amount_sum</text>\n<polyline fill=\"none\" stroke=\"black\" points=\"687.75,-544.5 687.75,-593.5\"/>\n<text text-anchor=\"middle\" x=\"710.75\" y=\"-564.2\" font-family=\"Times New Roman,serif\" font-size=\"14.00\">result</text>\n</g>\n<!-- input_unit&#45;&gt;get_total_amount_sum_03b66ea51ac8437a86f464e3988514b1 -->\n<g id=\"edge8\" class=\"edge\">\n<title>input_unit-&gt;get_total_amount_sum_03b66ea51ac8437a86f464e3988514b1:inputs_unit</title>\n<path fill=\"none\" stroke=\"black\" d=\"M255,-405.71C301.35,-398.13 397.42,-389.95 454.75,-438 493.55,-470.52 444.98,-543.4 479.41,-555.14\"/>\n<polygon fill=\"black\" stroke=\"black\" points=\"478.86,-558.6 489.25,-556.54 479.84,-551.67 478.86,-558.6\"/>\n</g>\n<!-- get_total_amount_sum_405baccfe55c4f5997746950344c5e01 -->\n<g id=\"node10\" class=\"node\">\n<title>get_total_amount_sum_405baccfe55c4f5997746950344c5e01</title>\n<polygon fill=\"none\" stroke=\"black\" points=\"490.75,-476.5 490.75,-525.5 733.75,-525.5 733.75,-476.5 490.75,-476.5\"/>\n<text text-anchor=\"middle\" x=\"518.62\" y=\"-508.2\" font-family=\"Times New Roman,serif\" font-size=\"14.00\">file_url</text>\n<polyline fill=\"none\" stroke=\"black\" points=\"490.75,-501 546.5,-501\"/>\n<text text-anchor=\"middle\" x=\"518.62\" y=\"-483.7\" font-family=\"Times New Roman,serif\" font-size=\"14.00\">unit</text>\n<polyline fill=\"none\" stroke=\"black\" points=\"546.5,-476.5 546.5,-525.5\"/>\n<text text-anchor=\"middle\" x=\"617.12\" y=\"-495.95\" font-family=\"Times New Roman,serif\" font-size=\"14.00\">get_total_amount_sum</text>\n<polyline fill=\"none\" stroke=\"black\" points=\"687.75,-476.5 687.75,-525.5\"/>\n<text text-anchor=\"middle\" x=\"710.75\" y=\"-496.2\" font-family=\"Times New Roman,serif\" font-size=\"14.00\">result</text>\n</g>\n<!-- input_unit&#45;&gt;get_total_amount_sum_405baccfe55c4f5997746950344c5e01 -->\n<g id=\"edge10\" class=\"edge\">\n<title>input_unit-&gt;get_total_amount_sum_405baccfe55c4f5997746950344c5e01:inputs_unit</title>\n<path fill=\"none\" stroke=\"black\" d=\"M255.7,-407.52C300.64,-403.18 391.47,-400.39 454.75,-438 474.44,-449.7 467.24,-476.83 479.89,-485.8\"/>\n<polygon fill=\"black\" stroke=\"black\" points=\"478.72,-489.11 489.29,-488.35 480.55,-482.36 478.72,-489.11\"/>\n</g>\n<!-- get_total_amount_sum_fa599adb569c42218fafac931f9141c6 -->\n<g id=\"node12\" class=\"node\">\n<title>get_total_amount_sum_fa599adb569c42218fafac931f9141c6</title>\n<polygon fill=\"none\" stroke=\"black\" points=\"490.75,-408.5 490.75,-457.5 733.75,-457.5 733.75,-408.5 490.75,-408.5\"/>\n<text text-anchor=\"middle\" x=\"518.62\" y=\"-440.2\" font-family=\"Times New Roman,serif\" font-size=\"14.00\">file_url</text>\n<polyline fill=\"none\" stroke=\"black\" points=\"490.75,-433 546.5,-433\"/>\n<text text-anchor=\"middle\" x=\"518.62\" y=\"-415.7\" font-family=\"Times New Roman,serif\" font-size=\"14.00\">unit</text>\n<polyline fill=\"none\" stroke=\"black\" points=\"546.5,-408.5 546.5,-457.5\"/>\n<text text-anchor=\"middle\" x=\"617.12\" y=\"-427.95\" font-family=\"Times New Roman,serif\" font-size=\"14.00\">get_total_amount_sum</text>\n<polyline fill=\"none\" stroke=\"black\" points=\"687.75,-408.5 687.75,-457.5\"/>\n<text text-anchor=\"middle\" x=\"710.75\" y=\"-428.2\" font-family=\"Times New Roman,serif\" font-size=\"14.00\">result</text>\n</g>\n<!-- input_unit&#45;&gt;get_total_amount_sum_fa599adb569c42218fafac931f9141c6 -->\n<g id=\"edge12\" class=\"edge\">\n<title>input_unit-&gt;get_total_amount_sum_fa599adb569c42218fafac931f9141c6:inputs_unit</title>\n<path fill=\"none\" stroke=\"black\" d=\"M257.87,-412.81C304.24,-415.5 397.33,-420.29 479.27,-420.72\"/>\n<polygon fill=\"black\" stroke=\"black\" points=\"479.23,-424.22 489.24,-420.75 479.25,-417.22 479.23,-424.22\"/>\n</g>\n<!-- get_total_amount_sum_19a54abe01474202852c614ac8a045e9 -->\n<g id=\"node14\" class=\"node\">\n<title>get_total_amount_sum_19a54abe01474202852c614ac8a045e9</title>\n<polygon fill=\"none\" stroke=\"black\" points=\"490.75,-340.5 490.75,-389.5 733.75,-389.5 733.75,-340.5 490.75,-340.5\"/>\n<text text-anchor=\"middle\" x=\"518.62\" y=\"-372.2\" font-family=\"Times New Roman,serif\" font-size=\"14.00\">file_url</text>\n<polyline fill=\"none\" stroke=\"black\" points=\"490.75,-365 546.5,-365\"/>\n<text text-anchor=\"middle\" x=\"518.62\" y=\"-347.7\" font-family=\"Times New Roman,serif\" font-size=\"14.00\">unit</text>\n<polyline fill=\"none\" stroke=\"black\" points=\"546.5,-340.5 546.5,-389.5\"/>\n<text text-anchor=\"middle\" x=\"617.12\" y=\"-359.95\" font-family=\"Times New Roman,serif\" font-size=\"14.00\">get_total_amount_sum</text>\n<polyline fill=\"none\" stroke=\"black\" points=\"687.75,-340.5 687.75,-389.5\"/>\n<text text-anchor=\"middle\" x=\"710.75\" y=\"-360.2\" font-family=\"Times New Roman,serif\" font-size=\"14.00\">result</text>\n</g>\n<!-- input_unit&#45;&gt;get_total_amount_sum_19a54abe01474202852c614ac8a045e9 -->\n<g id=\"edge14\" class=\"edge\">\n<title>input_unit-&gt;get_total_amount_sum_19a54abe01474202852c614ac8a045e9:inputs_unit</title>\n<path fill=\"none\" stroke=\"black\" d=\"M258.04,-412.86C302.73,-414.5 389.06,-413.08 454.75,-384 469.73,-377.37 470.4,-362.3 479.74,-355.81\"/>\n<polygon fill=\"black\" stroke=\"black\" points=\"480.6,-359.21 489.29,-353.16 478.72,-352.46 480.6,-359.21\"/>\n</g>\n<!-- get_total_amount_sum_acba2c85605b4147925cd9977de56e88 -->\n<g id=\"node16\" class=\"node\">\n<title>get_total_amount_sum_acba2c85605b4147925cd9977de56e88</title>\n<polygon fill=\"none\" stroke=\"black\" points=\"490.75,-272.5 490.75,-321.5 733.75,-321.5 733.75,-272.5 490.75,-272.5\"/>\n<text text-anchor=\"middle\" x=\"518.62\" y=\"-304.2\" font-family=\"Times New Roman,serif\" font-size=\"14.00\">file_url</text>\n<polyline fill=\"none\" stroke=\"black\" points=\"490.75,-297 546.5,-297\"/>\n<text text-anchor=\"middle\" x=\"518.62\" y=\"-279.7\" font-family=\"Times New Roman,serif\" font-size=\"14.00\">unit</text>\n<polyline fill=\"none\" stroke=\"black\" points=\"546.5,-272.5 546.5,-321.5\"/>\n<text text-anchor=\"middle\" x=\"617.12\" y=\"-291.95\" font-family=\"Times New Roman,serif\" font-size=\"14.00\">get_total_amount_sum</text>\n<polyline fill=\"none\" stroke=\"black\" points=\"687.75,-272.5 687.75,-321.5\"/>\n<text text-anchor=\"middle\" x=\"710.75\" y=\"-292.2\" font-family=\"Times New Roman,serif\" font-size=\"14.00\">result</text>\n</g>\n<!-- input_unit&#45;&gt;get_total_amount_sum_acba2c85605b4147925cd9977de56e88 -->\n<g id=\"edge16\" class=\"edge\">\n<title>input_unit-&gt;get_total_amount_sum_acba2c85605b4147925cd9977de56e88:inputs_unit</title>\n<path fill=\"none\" stroke=\"black\" d=\"M259.65,-416.7C307.21,-423.5 398.17,-428.9 454.75,-384 487.92,-357.68 452.33,-298.05 479.54,-286.65\"/>\n<polygon fill=\"black\" stroke=\"black\" points=\"479.98,-290.13 489.26,-285 478.81,-283.23 479.98,-290.13\"/>\n</g>\n<!-- get_total_amount_sum_b02cf983ee6a464686de87b3d1bebd1b -->\n<g id=\"node18\" class=\"node\">\n<title>get_total_amount_sum_b02cf983ee6a464686de87b3d1bebd1b</title>\n<polygon fill=\"none\" stroke=\"black\" points=\"490.75,-204.5 490.75,-253.5 733.75,-253.5 733.75,-204.5 490.75,-204.5\"/>\n<text text-anchor=\"middle\" x=\"518.62\" y=\"-236.2\" font-family=\"Times New Roman,serif\" font-size=\"14.00\">file_url</text>\n<polyline fill=\"none\" stroke=\"black\" points=\"490.75,-229 546.5,-229\"/>\n<text text-anchor=\"middle\" x=\"518.62\" y=\"-211.7\" font-family=\"Times New Roman,serif\" font-size=\"14.00\">unit</text>\n<polyline fill=\"none\" stroke=\"black\" points=\"546.5,-204.5 546.5,-253.5\"/>\n<text text-anchor=\"middle\" x=\"617.12\" y=\"-223.95\" font-family=\"Times New Roman,serif\" font-size=\"14.00\">get_total_amount_sum</text>\n<polyline fill=\"none\" stroke=\"black\" points=\"687.75,-204.5 687.75,-253.5\"/>\n<text text-anchor=\"middle\" x=\"710.75\" y=\"-224.2\" font-family=\"Times New Roman,serif\" font-size=\"14.00\">result</text>\n</g>\n<!-- input_unit&#45;&gt;get_total_amount_sum_b02cf983ee6a464686de87b3d1bebd1b -->\n<g id=\"edge18\" class=\"edge\">\n<title>input_unit-&gt;get_total_amount_sum_b02cf983ee6a464686de87b3d1bebd1b:inputs_unit</title>\n<path fill=\"none\" stroke=\"black\" d=\"M260.04,-417.56C308.53,-425.61 401.2,-432.77 454.75,-384 507.78,-335.7 425.13,-229.69 479.43,-217.83\"/>\n<polygon fill=\"black\" stroke=\"black\" points=\"479.62,-221.33 489.24,-216.89 478.96,-214.36 479.62,-221.33\"/>\n</g>\n<!-- get_total_amount_sum_bb2a96ad3017494085ddc7a09ed23806 -->\n<g id=\"node20\" class=\"node\">\n<title>get_total_amount_sum_bb2a96ad3017494085ddc7a09ed23806</title>\n<polygon fill=\"none\" stroke=\"black\" points=\"490.75,-136.5 490.75,-185.5 733.75,-185.5 733.75,-136.5 490.75,-136.5\"/>\n<text text-anchor=\"middle\" x=\"518.62\" y=\"-168.2\" font-family=\"Times New Roman,serif\" font-size=\"14.00\">file_url</text>\n<polyline fill=\"none\" stroke=\"black\" points=\"490.75,-161 546.5,-161\"/>\n<text text-anchor=\"middle\" x=\"518.62\" y=\"-143.7\" font-family=\"Times New Roman,serif\" font-size=\"14.00\">unit</text>\n<polyline fill=\"none\" stroke=\"black\" points=\"546.5,-136.5 546.5,-185.5\"/>\n<text text-anchor=\"middle\" x=\"617.12\" y=\"-155.95\" font-family=\"Times New Roman,serif\" font-size=\"14.00\">get_total_amount_sum</text>\n<polyline fill=\"none\" stroke=\"black\" points=\"687.75,-136.5 687.75,-185.5\"/>\n<text text-anchor=\"middle\" x=\"710.75\" y=\"-156.2\" font-family=\"Times New Roman,serif\" font-size=\"14.00\">result</text>\n</g>\n<!-- input_unit&#45;&gt;get_total_amount_sum_bb2a96ad3017494085ddc7a09ed23806 -->\n<g id=\"edge20\" class=\"edge\">\n<title>input_unit-&gt;get_total_amount_sum_bb2a96ad3017494085ddc7a09ed23806:inputs_unit</title>\n<path fill=\"none\" stroke=\"black\" d=\"M260,-417.88C308.87,-426.48 402.55,-434.5 454.75,-384 489.79,-350.1 445.87,-178.78 480.23,-152.21\"/>\n<polygon fill=\"black\" stroke=\"black\" points=\"480.91,-155.67 489.31,-149.22 478.72,-149.03 480.91,-155.67\"/>\n</g>\n<!-- get_total_amount_sum_ef6d7417475e403b9d95aa473ae7e6d5 -->\n<g id=\"node22\" class=\"node\">\n<title>get_total_amount_sum_ef6d7417475e403b9d95aa473ae7e6d5</title>\n<polygon fill=\"none\" stroke=\"black\" points=\"490.75,-68.5 490.75,-117.5 733.75,-117.5 733.75,-68.5 490.75,-68.5\"/>\n<text text-anchor=\"middle\" x=\"518.62\" y=\"-100.2\" font-family=\"Times New Roman,serif\" font-size=\"14.00\">file_url</text>\n<polyline fill=\"none\" stroke=\"black\" points=\"490.75,-93 546.5,-93\"/>\n<text text-anchor=\"middle\" x=\"518.62\" y=\"-75.7\" font-family=\"Times New Roman,serif\" font-size=\"14.00\">unit</text>\n<polyline fill=\"none\" stroke=\"black\" points=\"546.5,-68.5 546.5,-117.5\"/>\n<text text-anchor=\"middle\" x=\"617.12\" y=\"-87.95\" font-family=\"Times New Roman,serif\" font-size=\"14.00\">get_total_amount_sum</text>\n<polyline fill=\"none\" stroke=\"black\" points=\"687.75,-68.5 687.75,-117.5\"/>\n<text text-anchor=\"middle\" x=\"710.75\" y=\"-88.2\" font-family=\"Times New Roman,serif\" font-size=\"14.00\">result</text>\n</g>\n<!-- input_unit&#45;&gt;get_total_amount_sum_ef6d7417475e403b9d95aa473ae7e6d5 -->\n<g id=\"edge22\" class=\"edge\">\n<title>input_unit-&gt;get_total_amount_sum_ef6d7417475e403b9d95aa473ae7e6d5:inputs_unit</title>\n<path fill=\"none\" stroke=\"black\" d=\"M260.21,-418.09C309.36,-426.97 403.41,-435.37 454.75,-384 499.72,-339 432.37,-111.85 479.69,-83.63\"/>\n<polygon fill=\"black\" stroke=\"black\" points=\"480.49,-87.04 489.29,-81.13 478.73,-80.26 480.49,-87.04\"/>\n</g>\n<!-- get_total_amount_sum_015401390ee24e4aa19f40cf1006fca3 -->\n<g id=\"node24\" class=\"node\">\n<title>get_total_amount_sum_015401390ee24e4aa19f40cf1006fca3</title>\n<polygon fill=\"none\" stroke=\"black\" points=\"490.75,-0.5 490.75,-49.5 733.75,-49.5 733.75,-0.5 490.75,-0.5\"/>\n<text text-anchor=\"middle\" x=\"518.62\" y=\"-32.2\" font-family=\"Times New Roman,serif\" font-size=\"14.00\">file_url</text>\n<polyline fill=\"none\" stroke=\"black\" points=\"490.75,-25 546.5,-25\"/>\n<text text-anchor=\"middle\" x=\"518.62\" y=\"-7.7\" font-family=\"Times New Roman,serif\" font-size=\"14.00\">unit</text>\n<polyline fill=\"none\" stroke=\"black\" points=\"546.5,-0.5 546.5,-49.5\"/>\n<text text-anchor=\"middle\" x=\"617.12\" y=\"-19.95\" font-family=\"Times New Roman,serif\" font-size=\"14.00\">get_total_amount_sum</text>\n<polyline fill=\"none\" stroke=\"black\" points=\"687.75,-0.5 687.75,-49.5\"/>\n<text text-anchor=\"middle\" x=\"710.75\" y=\"-20.2\" font-family=\"Times New Roman,serif\" font-size=\"14.00\">result</text>\n</g>\n<!-- input_unit&#45;&gt;get_total_amount_sum_015401390ee24e4aa19f40cf1006fca3 -->\n<g id=\"edge24\" class=\"edge\">\n<title>input_unit-&gt;get_total_amount_sum_015401390ee24e4aa19f40cf1006fca3:inputs_unit</title>\n<path fill=\"none\" stroke=\"black\" d=\"M260.34,-418.22C309.67,-427.28 403.96,-435.92 454.75,-384 509.77,-327.76 418.09,-43.79 479.53,-15.09\"/>\n<polygon fill=\"black\" stroke=\"black\" points=\"480.19,-18.53 489.27,-13.06 478.76,-11.67 480.19,-18.53\"/>\n</g>\n<!-- get_total_amount_sum_264379d6f8544afea33e1a312a2b492b&#45;&gt;add_4618897898834042ad6f4045a5cf7381 -->\n<g id=\"edge26\" class=\"edge\">\n<title>get_total_amount_sum_264379d6f8544afea33e1a312a2b492b:outputs_result-&gt;add_4618897898834042ad6f4045a5cf7381:inputs_1</title>\n<path fill=\"none\" stroke=\"black\" d=\"M710.75,-680C710.75,-669.02 726.94,-679.61 733.75,-671 802.01,-584.72 702.86,-508.96 762.58,-426.08\"/>\n<polygon fill=\"black\" stroke=\"black\" points=\"765.16,-428.46 768.6,-418.44 759.66,-424.13 765.16,-428.46\"/>\n</g>\n<!-- const__6c7ab3efb258443dad24bdd177648b1c -->\n<g id=\"node5\" class=\"node\">\n<title>const__6c7ab3efb258443dad24bdd177648b1c</title>\n<polygon fill=\"none\" stroke=\"black\" points=\"454.75,-735 0,-735 0,-699 454.75,-699 454.75,-735\"/>\n<text text-anchor=\"middle\" x=\"227.38\" y=\"-711.95\" font-family=\"Times New Roman,serif\" font-size=\"14.00\">https://d37ci6vzurychx.cloudfront.net/trip-data/yellow_tripdata_2024-02.parquet</text>\n</g>\n<!-- const__6c7ab3efb258443dad24bdd177648b1c&#45;&gt;get_total_amount_sum_264379d6f8544afea33e1a312a2b492b -->\n<g id=\"edge3\" class=\"edge\">\n<title>const__6c7ab3efb258443dad24bdd177648b1c-&gt;get_total_amount_sum_264379d6f8544afea33e1a312a2b492b:inputs_file_url</title>\n<path fill=\"none\" stroke=\"black\" d=\"M455.21,-717.24C463.38,-717.25 471.5,-717.25 479.5,-717.25\"/>\n<polygon fill=\"black\" stroke=\"black\" points=\"479.24,-720.75 489.24,-717.25 479.24,-713.75 479.24,-720.75\"/>\n</g>\n<!-- get_total_amount_sum_9c9a50aaa1b84a0c95a2ca3b1d18a0d6&#45;&gt;add_4618897898834042ad6f4045a5cf7381 -->\n<g id=\"edge27\" class=\"edge\">\n<title>get_total_amount_sum_9c9a50aaa1b84a0c95a2ca3b1d18a0d6:outputs_result-&gt;add_4618897898834042ad6f4045a5cf7381:inputs_2</title>\n<path fill=\"none\" stroke=\"black\" d=\"M710.75,-612C710.75,-601.02 726.72,-611.43 733.75,-603 785.01,-541.46 720.21,-485.2 762.39,-426.11\"/>\n<polygon fill=\"black\" stroke=\"black\" points=\"764.93,-428.53 768.47,-418.55 759.48,-424.15 764.93,-428.53\"/>\n</g>\n<!-- const__13801412522c488b9034c9d27af180fe -->\n<g id=\"node7\" class=\"node\">\n<title>const__13801412522c488b9034c9d27af180fe</title>\n<polygon fill=\"none\" stroke=\"black\" points=\"454.75,-667 0,-667 0,-631 454.75,-631 454.75,-667\"/>\n<text text-anchor=\"middle\" x=\"227.38\" y=\"-643.95\" font-family=\"Times New Roman,serif\" font-size=\"14.00\">https://d37ci6vzurychx.cloudfront.net/trip-data/yellow_tripdata_2024-03.parquet</text>\n</g>\n<!-- const__13801412522c488b9034c9d27af180fe&#45;&gt;get_total_amount_sum_9c9a50aaa1b84a0c95a2ca3b1d18a0d6 -->\n<g id=\"edge5\" class=\"edge\">\n<title>const__13801412522c488b9034c9d27af180fe-&gt;get_total_amount_sum_9c9a50aaa1b84a0c95a2ca3b1d18a0d6:inputs_file_url</title>\n<path fill=\"none\" stroke=\"black\" d=\"M455.21,-649.24C463.38,-649.25 471.5,-649.25 479.5,-649.25\"/>\n<polygon fill=\"black\" stroke=\"black\" points=\"479.24,-652.75 489.24,-649.25 479.24,-645.75 479.24,-652.75\"/>\n</g>\n<!-- get_total_amount_sum_03b66ea51ac8437a86f464e3988514b1&#45;&gt;add_4618897898834042ad6f4045a5cf7381 -->\n<g id=\"edge28\" class=\"edge\">\n<title>get_total_amount_sum_03b66ea51ac8437a86f464e3988514b1:outputs_result-&gt;add_4618897898834042ad6f4045a5cf7381:inputs_3</title>\n<path fill=\"none\" stroke=\"black\" d=\"M710.75,-544C710.75,-533.02 726.29,-543.05 733.75,-535 768.1,-497.9 736.66,-461.77 762.04,-426.04\"/>\n<polygon fill=\"black\" stroke=\"black\" points=\"764.54,-428.5 768.32,-418.61 759.19,-423.99 764.54,-428.5\"/>\n</g>\n<!-- const__23ad884f016c4ce8821928b36c46bf3e -->\n<g id=\"node9\" class=\"node\">\n<title>const__23ad884f016c4ce8821928b36c46bf3e</title>\n<polygon fill=\"none\" stroke=\"black\" points=\"454.75,-599 0,-599 0,-563 454.75,-563 454.75,-599\"/>\n<text text-anchor=\"middle\" x=\"227.38\" y=\"-575.95\" font-family=\"Times New Roman,serif\" font-size=\"14.00\">https://d37ci6vzurychx.cloudfront.net/trip-data/yellow_tripdata_2024-04.parquet</text>\n</g>\n<!-- const__23ad884f016c4ce8821928b36c46bf3e&#45;&gt;get_total_amount_sum_03b66ea51ac8437a86f464e3988514b1 -->\n<g id=\"edge7\" class=\"edge\">\n<title>const__23ad884f016c4ce8821928b36c46bf3e-&gt;get_total_amount_sum_03b66ea51ac8437a86f464e3988514b1:inputs_file_url</title>\n<path fill=\"none\" stroke=\"black\" d=\"M455.21,-581.24C463.38,-581.25 471.5,-581.25 479.5,-581.25\"/>\n<polygon fill=\"black\" stroke=\"black\" points=\"479.24,-584.75 489.24,-581.25 479.24,-577.75 479.24,-584.75\"/>\n</g>\n<!-- get_total_amount_sum_405baccfe55c4f5997746950344c5e01&#45;&gt;add_4618897898834042ad6f4045a5cf7381 -->\n<g id=\"edge29\" class=\"edge\">\n<title>get_total_amount_sum_405baccfe55c4f5997746950344c5e01:outputs_result-&gt;add_4618897898834042ad6f4045a5cf7381:inputs_4</title>\n<path fill=\"none\" stroke=\"black\" d=\"M733.75,-501.25C770.35,-501.25 745.71,-455.1 762.4,-426.07\"/>\n<polygon fill=\"black\" stroke=\"black\" points=\"764.94,-428.5 768.45,-418.5 759.47,-424.12 764.94,-428.5\"/>\n</g>\n<!-- const__e3e55f98dd2549b88803445b6b8e5d01 -->\n<g id=\"node11\" class=\"node\">\n<title>const__e3e55f98dd2549b88803445b6b8e5d01</title>\n<polygon fill=\"none\" stroke=\"black\" points=\"454.75,-537 0,-537 0,-501 454.75,-501 454.75,-537\"/>\n<text text-anchor=\"middle\" x=\"227.38\" y=\"-513.95\" font-family=\"Times New Roman,serif\" font-size=\"14.00\">https://d37ci6vzurychx.cloudfront.net/trip-data/yellow_tripdata_2024-05.parquet</text>\n</g>\n<!-- const__e3e55f98dd2549b88803445b6b8e5d01&#45;&gt;get_total_amount_sum_405baccfe55c4f5997746950344c5e01 -->\n<g id=\"edge9\" class=\"edge\">\n<title>const__e3e55f98dd2549b88803445b6b8e5d01-&gt;get_total_amount_sum_405baccfe55c4f5997746950344c5e01:inputs_file_url</title>\n<path fill=\"none\" stroke=\"black\" d=\"M455.2,-513.41C463.37,-513.34 471.49,-513.29 479.5,-513.27\"/>\n<polygon fill=\"black\" stroke=\"black\" points=\"479.24,-516.77 489.24,-513.25 479.23,-509.77 479.24,-516.77\"/>\n</g>\n<!-- get_total_amount_sum_fa599adb569c42218fafac931f9141c6&#45;&gt;add_4618897898834042ad6f4045a5cf7381 -->\n<g id=\"edge30\" class=\"edge\">\n<title>get_total_amount_sum_fa599adb569c42218fafac931f9141c6:outputs_result-&gt;add_4618897898834042ad6f4045a5cf7381:inputs_5</title>\n<path fill=\"none\" stroke=\"black\" d=\"M733.75,-433.25C746.81,-433.25 751.26,-427.66 759.46,-422.26\"/>\n<polygon fill=\"black\" stroke=\"black\" points=\"760.74,-425.54 768.02,-417.84 757.53,-419.32 760.74,-425.54\"/>\n</g>\n<!-- const__37688a2f73c04bec92ee8dca3a917c20 -->\n<g id=\"node13\" class=\"node\">\n<title>const__37688a2f73c04bec92ee8dca3a917c20</title>\n<polygon fill=\"none\" stroke=\"black\" points=\"454.75,-483 0,-483 0,-447 454.75,-447 454.75,-483\"/>\n<text text-anchor=\"middle\" x=\"227.38\" y=\"-459.95\" font-family=\"Times New Roman,serif\" font-size=\"14.00\">https://d37ci6vzurychx.cloudfront.net/trip-data/yellow_tripdata_2024-06.parquet</text>\n</g>\n<!-- const__37688a2f73c04bec92ee8dca3a917c20&#45;&gt;get_total_amount_sum_fa599adb569c42218fafac931f9141c6 -->\n<g id=\"edge11\" class=\"edge\">\n<title>const__37688a2f73c04bec92ee8dca3a917c20-&gt;get_total_amount_sum_fa599adb569c42218fafac931f9141c6:inputs_file_url</title>\n<path fill=\"none\" stroke=\"black\" d=\"M435.58,-446.5C450.29,-445.88 464.97,-445.46 479.32,-445.31\"/>\n<polygon fill=\"black\" stroke=\"black\" points=\"479.26,-448.81 489.24,-445.26 479.22,-441.81 479.26,-448.81\"/>\n</g>\n<!-- get_total_amount_sum_19a54abe01474202852c614ac8a045e9&#45;&gt;add_4618897898834042ad6f4045a5cf7381 -->\n<g id=\"edge31\" class=\"edge\">\n<title>get_total_amount_sum_19a54abe01474202852c614ac8a045e9:outputs_result-&gt;add_4618897898834042ad6f4045a5cf7381:inputs_6</title>\n<path fill=\"none\" stroke=\"black\" d=\"M733.75,-365.25C746.81,-365.25 751.25,-370.88 759.45,-376.27\"/>\n<polygon fill=\"black\" stroke=\"black\" points=\"757.53,-379.21 768.02,-380.67 760.72,-372.98 757.53,-379.21\"/>\n</g>\n<!-- const__2f77c9059fe54619b763739316f2ab92 -->\n<g id=\"node15\" class=\"node\">\n<title>const__2f77c9059fe54619b763739316f2ab92</title>\n<polygon fill=\"none\" stroke=\"black\" points=\"454.75,-375 0,-375 0,-339 454.75,-339 454.75,-375\"/>\n<text text-anchor=\"middle\" x=\"227.38\" y=\"-351.95\" font-family=\"Times New Roman,serif\" font-size=\"14.00\">https://d37ci6vzurychx.cloudfront.net/trip-data/yellow_tripdata_2024-07.parquet</text>\n</g>\n<!-- const__2f77c9059fe54619b763739316f2ab92&#45;&gt;get_total_amount_sum_19a54abe01474202852c614ac8a045e9 -->\n<g id=\"edge13\" class=\"edge\">\n<title>const__2f77c9059fe54619b763739316f2ab92-&gt;get_total_amount_sum_19a54abe01474202852c614ac8a045e9:inputs_file_url</title>\n<path fill=\"none\" stroke=\"black\" d=\"M425.24,-375.49C443.44,-376.39 461.71,-377 479.47,-377.19\"/>\n<polygon fill=\"black\" stroke=\"black\" points=\"479.22,-380.69 489.24,-377.24 479.26,-373.69 479.22,-380.69\"/>\n</g>\n<!-- get_total_amount_sum_acba2c85605b4147925cd9977de56e88&#45;&gt;add_4618897898834042ad6f4045a5cf7381 -->\n<g id=\"edge32\" class=\"edge\">\n<title>get_total_amount_sum_acba2c85605b4147925cd9977de56e88:outputs_result-&gt;add_4618897898834042ad6f4045a5cf7381:inputs_7</title>\n<path fill=\"none\" stroke=\"black\" d=\"M733.75,-297.25C770.35,-297.25 745.63,-343.49 762.37,-372.46\"/>\n<polygon fill=\"black\" stroke=\"black\" points=\"759.45,-374.41 768.45,-380 764.9,-370.02 759.45,-374.41\"/>\n</g>\n<!-- const__2585ac1fb91d4ba7888ef9739647c38a -->\n<g id=\"node17\" class=\"node\">\n<title>const__2585ac1fb91d4ba7888ef9739647c38a</title>\n<polygon fill=\"none\" stroke=\"black\" points=\"454.75,-321 0,-321 0,-285 454.75,-285 454.75,-321\"/>\n<text text-anchor=\"middle\" x=\"227.38\" y=\"-297.95\" font-family=\"Times New Roman,serif\" font-size=\"14.00\">https://d37ci6vzurychx.cloudfront.net/trip-data/yellow_tripdata_2024-08.parquet</text>\n</g>\n<!-- const__2585ac1fb91d4ba7888ef9739647c38a&#45;&gt;get_total_amount_sum_acba2c85605b4147925cd9977de56e88 -->\n<g id=\"edge15\" class=\"edge\">\n<title>const__2585ac1fb91d4ba7888ef9739647c38a-&gt;get_total_amount_sum_acba2c85605b4147925cd9977de56e88:inputs_file_url</title>\n<path fill=\"none\" stroke=\"black\" d=\"M455.2,-309.08C463.37,-309.15 471.49,-309.21 479.5,-309.23\"/>\n<polygon fill=\"black\" stroke=\"black\" points=\"479.23,-312.73 489.24,-309.25 479.24,-305.73 479.23,-312.73\"/>\n</g>\n<!-- get_total_amount_sum_b02cf983ee6a464686de87b3d1bebd1b&#45;&gt;add_4618897898834042ad6f4045a5cf7381 -->\n<g id=\"edge33\" class=\"edge\">\n<title>get_total_amount_sum_b02cf983ee6a464686de87b3d1bebd1b:outputs_result-&gt;add_4618897898834042ad6f4045a5cf7381:inputs_8</title>\n<path fill=\"none\" stroke=\"black\" d=\"M710.75,-254.5C710.75,-265.4 726.27,-255.07 733.75,-263 768.57,-299.94 736.5,-336.61 761.99,-372.44\"/>\n<polygon fill=\"black\" stroke=\"black\" points=\"759.17,-374.54 768.32,-379.89 764.51,-370 759.17,-374.54\"/>\n</g>\n<!-- const__549b25e07a6b47238e00852e00a39fc1 -->\n<g id=\"node19\" class=\"node\">\n<title>const__549b25e07a6b47238e00852e00a39fc1</title>\n<polygon fill=\"none\" stroke=\"black\" points=\"454.75,-259 0,-259 0,-223 454.75,-223 454.75,-259\"/>\n<text text-anchor=\"middle\" x=\"227.38\" y=\"-235.95\" font-family=\"Times New Roman,serif\" font-size=\"14.00\">https://d37ci6vzurychx.cloudfront.net/trip-data/yellow_tripdata_2024-09.parquet</text>\n</g>\n<!-- const__549b25e07a6b47238e00852e00a39fc1&#45;&gt;get_total_amount_sum_b02cf983ee6a464686de87b3d1bebd1b -->\n<g id=\"edge17\" class=\"edge\">\n<title>const__549b25e07a6b47238e00852e00a39fc1-&gt;get_total_amount_sum_b02cf983ee6a464686de87b3d1bebd1b:inputs_file_url</title>\n<path fill=\"none\" stroke=\"black\" d=\"M455.21,-241.24C463.38,-241.25 471.5,-241.25 479.5,-241.25\"/>\n<polygon fill=\"black\" stroke=\"black\" points=\"479.24,-244.75 489.24,-241.25 479.24,-237.75 479.24,-244.75\"/>\n</g>\n<!-- get_total_amount_sum_bb2a96ad3017494085ddc7a09ed23806&#45;&gt;add_4618897898834042ad6f4045a5cf7381 -->\n<g id=\"edge34\" class=\"edge\">\n<title>get_total_amount_sum_bb2a96ad3017494085ddc7a09ed23806:outputs_result-&gt;add_4618897898834042ad6f4045a5cf7381:inputs_9</title>\n<path fill=\"none\" stroke=\"black\" d=\"M710.75,-186.5C710.75,-197.4 726.7,-186.69 733.75,-195 785.71,-256.23 719.95,-313.26 762.35,-372.39\"/>\n<polygon fill=\"black\" stroke=\"black\" points=\"759.46,-374.38 768.47,-379.96 764.9,-369.98 759.46,-374.38\"/>\n</g>\n<!-- const__0a23fbe64045476685c4a1866ecaf6b1 -->\n<g id=\"node21\" class=\"node\">\n<title>const__0a23fbe64045476685c4a1866ecaf6b1</title>\n<polygon fill=\"none\" stroke=\"black\" points=\"454.75,-191 0,-191 0,-155 454.75,-155 454.75,-191\"/>\n<text text-anchor=\"middle\" x=\"227.38\" y=\"-167.95\" font-family=\"Times New Roman,serif\" font-size=\"14.00\">https://d37ci6vzurychx.cloudfront.net/trip-data/yellow_tripdata_2024-10.parquet</text>\n</g>\n<!-- const__0a23fbe64045476685c4a1866ecaf6b1&#45;&gt;get_total_amount_sum_bb2a96ad3017494085ddc7a09ed23806 -->\n<g id=\"edge19\" class=\"edge\">\n<title>const__0a23fbe64045476685c4a1866ecaf6b1-&gt;get_total_amount_sum_bb2a96ad3017494085ddc7a09ed23806:inputs_file_url</title>\n<path fill=\"none\" stroke=\"black\" d=\"M455.21,-173.24C463.38,-173.25 471.5,-173.25 479.5,-173.25\"/>\n<polygon fill=\"black\" stroke=\"black\" points=\"479.24,-176.75 489.24,-173.25 479.24,-169.75 479.24,-176.75\"/>\n</g>\n<!-- get_total_amount_sum_ef6d7417475e403b9d95aa473ae7e6d5&#45;&gt;add_4618897898834042ad6f4045a5cf7381 -->\n<g id=\"edge35\" class=\"edge\">\n<title>get_total_amount_sum_ef6d7417475e403b9d95aa473ae7e6d5:outputs_result-&gt;add_4618897898834042ad6f4045a5cf7381:inputs_10</title>\n<path fill=\"none\" stroke=\"black\" d=\"M710.75,-118.5C710.75,-129.4 726.91,-118.52 733.75,-127 802.88,-212.72 702.69,-289.42 762.36,-372.18\"/>\n<polygon fill=\"black\" stroke=\"black\" points=\"759.44,-374.12 768.38,-379.81 764.93,-369.79 759.44,-374.12\"/>\n</g>\n<!-- const__6b85f595cbd145e39434f4149ab8e820 -->\n<g id=\"node23\" class=\"node\">\n<title>const__6b85f595cbd145e39434f4149ab8e820</title>\n<polygon fill=\"none\" stroke=\"black\" points=\"454.75,-123 0,-123 0,-87 454.75,-87 454.75,-123\"/>\n<text text-anchor=\"middle\" x=\"227.38\" y=\"-99.95\" font-family=\"Times New Roman,serif\" font-size=\"14.00\">https://d37ci6vzurychx.cloudfront.net/trip-data/yellow_tripdata_2024-11.parquet</text>\n</g>\n<!-- const__6b85f595cbd145e39434f4149ab8e820&#45;&gt;get_total_amount_sum_ef6d7417475e403b9d95aa473ae7e6d5 -->\n<g id=\"edge21\" class=\"edge\">\n<title>const__6b85f595cbd145e39434f4149ab8e820-&gt;get_total_amount_sum_ef6d7417475e403b9d95aa473ae7e6d5:inputs_file_url</title>\n<path fill=\"none\" stroke=\"black\" d=\"M455.21,-105.24C463.38,-105.25 471.5,-105.25 479.5,-105.25\"/>\n<polygon fill=\"black\" stroke=\"black\" points=\"479.24,-108.75 489.24,-105.25 479.24,-101.75 479.24,-108.75\"/>\n</g>\n<!-- get_total_amount_sum_015401390ee24e4aa19f40cf1006fca3&#45;&gt;add_4618897898834042ad6f4045a5cf7381 -->\n<g id=\"edge36\" class=\"edge\">\n<title>get_total_amount_sum_015401390ee24e4aa19f40cf1006fca3:outputs_result-&gt;add_4618897898834042ad6f4045a5cf7381:inputs_11</title>\n<path fill=\"none\" stroke=\"black\" d=\"M710.75,-50.5C710.75,-61.4 727.03,-50.42 733.75,-59 820.11,-169.37 685,-265.52 762.43,-372.16\"/>\n<polygon fill=\"black\" stroke=\"black\" points=\"759.63,-374.26 768.55,-379.98 765.15,-369.95 759.63,-374.26\"/>\n</g>\n<!-- const__28e6e85a19174581a20740339a015e4e -->\n<g id=\"node25\" class=\"node\">\n<title>const__28e6e85a19174581a20740339a015e4e</title>\n<polygon fill=\"none\" stroke=\"black\" points=\"454.75,-55 0,-55 0,-19 454.75,-19 454.75,-55\"/>\n<text text-anchor=\"middle\" x=\"227.38\" y=\"-31.95\" font-family=\"Times New Roman,serif\" font-size=\"14.00\">https://d37ci6vzurychx.cloudfront.net/trip-data/yellow_tripdata_2024-12.parquet</text>\n</g>\n<!-- const__28e6e85a19174581a20740339a015e4e&#45;&gt;get_total_amount_sum_015401390ee24e4aa19f40cf1006fca3 -->\n<g id=\"edge23\" class=\"edge\">\n<title>const__28e6e85a19174581a20740339a015e4e-&gt;get_total_amount_sum_015401390ee24e4aa19f40cf1006fca3:inputs_file_url</title>\n<path fill=\"none\" stroke=\"black\" d=\"M455.21,-37.24C463.38,-37.25 471.5,-37.25 479.5,-37.25\"/>\n<polygon fill=\"black\" stroke=\"black\" points=\"479.24,-40.75 489.24,-37.25 479.24,-33.75 479.24,-40.75\"/>\n</g>\n<!-- _4218e029e8d94829a1aa9e2da788dbe4 -->\n<g id=\"node27\" class=\"node\">\n<title>_4218e029e8d94829a1aa9e2da788dbe4</title>\n<ellipse fill=\"none\" stroke=\"black\" cx=\"957.14\" cy=\"-399\" rx=\"31.39\" ry=\"18\"/>\n<text text-anchor=\"middle\" x=\"957.14\" y=\"-393.95\" font-family=\"Times New Roman,serif\" font-size=\"14.00\">result</text>\n</g>\n<!-- add_4618897898834042ad6f4045a5cf7381&#45;&gt;_4218e029e8d94829a1aa9e2da788dbe4 -->\n<g id=\"edge37\" class=\"edge\">\n<title>add_4618897898834042ad6f4045a5cf7381:outputs_result-&gt;_4218e029e8d94829a1aa9e2da788dbe4</title>\n<path fill=\"none\" stroke=\"black\" d=\"M889.75,-399.25C897.57,-399.25 905.91,-399.23 913.95,-399.21\"/>\n<polygon fill=\"black\" stroke=\"black\" points=\"913.9,-402.71 923.89,-399.17 913.87,-395.71 913.9,-402.71\"/>\n</g>\n</g>\n</svg>"
     },
     "execution_count": 8,
     "metadata": {},
     "output_type": "execute_result"
    }
   ],
   "execution_count": 8
  },
  {
   "metadata": {},
   "cell_type": "markdown",
   "source": "If we only want to see the node relations, we can pass the arguments `no_input`, `no_const`, and `no_output` to make the graph less noisy:",
   "id": "aa3883ddf38221db"
  },
  {
   "metadata": {
    "ExecuteTime": {
     "end_time": "2025-04-14T14:58:58.900322Z",
     "start_time": "2025-04-14T14:58:58.515488Z"
    }
   },
   "cell_type": "code",
   "source": [
    "get_graph_image(\n",
    "    nyc_yellow_taxi_fare_total_for_year.to_graph(year=2024).to_dot(\n",
    "        no_input=True, no_const=True, no_output=True\n",
    "    )\n",
    ")"
   ],
   "id": "75f4bc450bf57f11",
   "outputs": [
    {
     "data": {
      "text/plain": [
       "<IPython.core.display.SVG object>"
      ],
      "image/svg+xml": "<svg xmlns=\"http://www.w3.org/2000/svg\" xmlns:xlink=\"http://www.w3.org/1999/xlink\" width=\"407pt\" height=\"806pt\" viewBox=\"0.00 0.00 407.00 806.00\">\n<g id=\"graph0\" class=\"graph\" transform=\"scale(1 1) rotate(0) translate(4 802)\">\n<title>G</title>\n<polygon fill=\"white\" stroke=\"none\" points=\"-4,4 -4,-802 403,-802 403,4 -4,4\"/>\n<!-- get_total_amount_sum_b518722c06cb42acae11cf55eba9f817 -->\n<g id=\"node1\" class=\"node\">\n<title>get_total_amount_sum_b518722c06cb42acae11cf55eba9f817</title>\n<polygon fill=\"none\" stroke=\"black\" points=\"0,-748.5 0,-797.5 243,-797.5 243,-748.5 0,-748.5\"/>\n<text text-anchor=\"middle\" x=\"27.88\" y=\"-780.2\" font-family=\"Times New Roman,serif\" font-size=\"14.00\">file_url</text>\n<polyline fill=\"none\" stroke=\"black\" points=\"0,-773 55.75,-773\"/>\n<text text-anchor=\"middle\" x=\"27.88\" y=\"-755.7\" font-family=\"Times New Roman,serif\" font-size=\"14.00\">unit</text>\n<polyline fill=\"none\" stroke=\"black\" points=\"55.75,-748.5 55.75,-797.5\"/>\n<text text-anchor=\"middle\" x=\"126.38\" y=\"-767.95\" font-family=\"Times New Roman,serif\" font-size=\"14.00\">get_total_amount_sum</text>\n<polyline fill=\"none\" stroke=\"black\" points=\"197,-748.5 197,-797.5\"/>\n<text text-anchor=\"middle\" x=\"220\" y=\"-768.2\" font-family=\"Times New Roman,serif\" font-size=\"14.00\">result</text>\n</g>\n<!-- add_6a83beb923704119a7f98755db388fc8 -->\n<g id=\"node13\" class=\"node\">\n<title>add_6a83beb923704119a7f98755db388fc8</title>\n<polygon fill=\"none\" stroke=\"black\" points=\"279,-381 279,-417 399,-417 399,-381 279,-381\"/>\n<text text-anchor=\"middle\" x=\"298.25\" y=\"-394.2\" font-family=\"Times New Roman,serif\" font-size=\"14.00\">args</text>\n<polyline fill=\"none\" stroke=\"black\" points=\"317.5,-381.5 317.5,-417\"/>\n<text text-anchor=\"middle\" x=\"335.25\" y=\"-394.2\" font-family=\"Times New Roman,serif\" font-size=\"14.00\">add</text>\n<polyline fill=\"none\" stroke=\"black\" points=\"353,-381.5 353,-417\"/>\n<text text-anchor=\"middle\" x=\"376\" y=\"-394.2\" font-family=\"Times New Roman,serif\" font-size=\"14.00\">result</text>\n</g>\n<!-- get_total_amount_sum_b518722c06cb42acae11cf55eba9f817&#45;&gt;add_6a83beb923704119a7f98755db388fc8 -->\n<g id=\"edge1\" class=\"edge\">\n<title>get_total_amount_sum_b518722c06cb42acae11cf55eba9f817:outputs_result-&gt;add_6a83beb923704119a7f98755db388fc8:inputs_0</title>\n<path fill=\"none\" stroke=\"black\" d=\"M220,-748C220,-737.02 236.32,-747.71 243,-739 328.19,-627.99 194.7,-533.08 271.73,-426.35\"/>\n<polygon fill=\"black\" stroke=\"black\" points=\"274.44,-428.57 277.8,-418.52 268.91,-424.28 274.44,-428.57\"/>\n</g>\n<!-- get_total_amount_sum_888685ce21904f55a5ea0fb36791b97d -->\n<g id=\"node2\" class=\"node\">\n<title>get_total_amount_sum_888685ce21904f55a5ea0fb36791b97d</title>\n<polygon fill=\"none\" stroke=\"black\" points=\"0,-680.5 0,-729.5 243,-729.5 243,-680.5 0,-680.5\"/>\n<text text-anchor=\"middle\" x=\"27.88\" y=\"-712.2\" font-family=\"Times New Roman,serif\" font-size=\"14.00\">file_url</text>\n<polyline fill=\"none\" stroke=\"black\" points=\"0,-705 55.75,-705\"/>\n<text text-anchor=\"middle\" x=\"27.88\" y=\"-687.7\" font-family=\"Times New Roman,serif\" font-size=\"14.00\">unit</text>\n<polyline fill=\"none\" stroke=\"black\" points=\"55.75,-680.5 55.75,-729.5\"/>\n<text text-anchor=\"middle\" x=\"126.38\" y=\"-699.95\" font-family=\"Times New Roman,serif\" font-size=\"14.00\">get_total_amount_sum</text>\n<polyline fill=\"none\" stroke=\"black\" points=\"197,-680.5 197,-729.5\"/>\n<text text-anchor=\"middle\" x=\"220\" y=\"-700.2\" font-family=\"Times New Roman,serif\" font-size=\"14.00\">result</text>\n</g>\n<!-- get_total_amount_sum_888685ce21904f55a5ea0fb36791b97d&#45;&gt;add_6a83beb923704119a7f98755db388fc8 -->\n<g id=\"edge2\" class=\"edge\">\n<title>get_total_amount_sum_888685ce21904f55a5ea0fb36791b97d:outputs_result-&gt;add_6a83beb923704119a7f98755db388fc8:inputs_1</title>\n<path fill=\"none\" stroke=\"black\" d=\"M220,-680C220,-669.02 236.19,-679.61 243,-671 311.26,-584.72 212.11,-508.96 271.83,-426.08\"/>\n<polygon fill=\"black\" stroke=\"black\" points=\"274.41,-428.46 277.85,-418.44 268.91,-424.13 274.41,-428.46\"/>\n</g>\n<!-- get_total_amount_sum_1838141e4720400bb10ddc8c7340660c -->\n<g id=\"node3\" class=\"node\">\n<title>get_total_amount_sum_1838141e4720400bb10ddc8c7340660c</title>\n<polygon fill=\"none\" stroke=\"black\" points=\"0,-612.5 0,-661.5 243,-661.5 243,-612.5 0,-612.5\"/>\n<text text-anchor=\"middle\" x=\"27.88\" y=\"-644.2\" font-family=\"Times New Roman,serif\" font-size=\"14.00\">file_url</text>\n<polyline fill=\"none\" stroke=\"black\" points=\"0,-637 55.75,-637\"/>\n<text text-anchor=\"middle\" x=\"27.88\" y=\"-619.7\" font-family=\"Times New Roman,serif\" font-size=\"14.00\">unit</text>\n<polyline fill=\"none\" stroke=\"black\" points=\"55.75,-612.5 55.75,-661.5\"/>\n<text text-anchor=\"middle\" x=\"126.38\" y=\"-631.95\" font-family=\"Times New Roman,serif\" font-size=\"14.00\">get_total_amount_sum</text>\n<polyline fill=\"none\" stroke=\"black\" points=\"197,-612.5 197,-661.5\"/>\n<text text-anchor=\"middle\" x=\"220\" y=\"-632.2\" font-family=\"Times New Roman,serif\" font-size=\"14.00\">result</text>\n</g>\n<!-- get_total_amount_sum_1838141e4720400bb10ddc8c7340660c&#45;&gt;add_6a83beb923704119a7f98755db388fc8 -->\n<g id=\"edge3\" class=\"edge\">\n<title>get_total_amount_sum_1838141e4720400bb10ddc8c7340660c:outputs_result-&gt;add_6a83beb923704119a7f98755db388fc8:inputs_2</title>\n<path fill=\"none\" stroke=\"black\" d=\"M220,-612C220,-601.02 235.97,-611.43 243,-603 294.26,-541.46 229.46,-485.2 271.64,-426.11\"/>\n<polygon fill=\"black\" stroke=\"black\" points=\"274.18,-428.53 277.72,-418.55 268.73,-424.15 274.18,-428.53\"/>\n</g>\n<!-- get_total_amount_sum_54a8fa418cc94018a17ad3fb70a1e63a -->\n<g id=\"node4\" class=\"node\">\n<title>get_total_amount_sum_54a8fa418cc94018a17ad3fb70a1e63a</title>\n<polygon fill=\"none\" stroke=\"black\" points=\"0,-544.5 0,-593.5 243,-593.5 243,-544.5 0,-544.5\"/>\n<text text-anchor=\"middle\" x=\"27.88\" y=\"-576.2\" font-family=\"Times New Roman,serif\" font-size=\"14.00\">file_url</text>\n<polyline fill=\"none\" stroke=\"black\" points=\"0,-569 55.75,-569\"/>\n<text text-anchor=\"middle\" x=\"27.88\" y=\"-551.7\" font-family=\"Times New Roman,serif\" font-size=\"14.00\">unit</text>\n<polyline fill=\"none\" stroke=\"black\" points=\"55.75,-544.5 55.75,-593.5\"/>\n<text text-anchor=\"middle\" x=\"126.38\" y=\"-563.95\" font-family=\"Times New Roman,serif\" font-size=\"14.00\">get_total_amount_sum</text>\n<polyline fill=\"none\" stroke=\"black\" points=\"197,-544.5 197,-593.5\"/>\n<text text-anchor=\"middle\" x=\"220\" y=\"-564.2\" font-family=\"Times New Roman,serif\" font-size=\"14.00\">result</text>\n</g>\n<!-- get_total_amount_sum_54a8fa418cc94018a17ad3fb70a1e63a&#45;&gt;add_6a83beb923704119a7f98755db388fc8 -->\n<g id=\"edge4\" class=\"edge\">\n<title>get_total_amount_sum_54a8fa418cc94018a17ad3fb70a1e63a:outputs_result-&gt;add_6a83beb923704119a7f98755db388fc8:inputs_3</title>\n<path fill=\"none\" stroke=\"black\" d=\"M220,-544C220,-533.02 235.54,-543.05 243,-535 277.35,-497.9 245.91,-461.77 271.29,-426.04\"/>\n<polygon fill=\"black\" stroke=\"black\" points=\"273.79,-428.5 277.57,-418.61 268.44,-423.99 273.79,-428.5\"/>\n</g>\n<!-- get_total_amount_sum_f3817406aec94a6c83c1da67d9228c1c -->\n<g id=\"node5\" class=\"node\">\n<title>get_total_amount_sum_f3817406aec94a6c83c1da67d9228c1c</title>\n<polygon fill=\"none\" stroke=\"black\" points=\"0,-476.5 0,-525.5 243,-525.5 243,-476.5 0,-476.5\"/>\n<text text-anchor=\"middle\" x=\"27.88\" y=\"-508.2\" font-family=\"Times New Roman,serif\" font-size=\"14.00\">file_url</text>\n<polyline fill=\"none\" stroke=\"black\" points=\"0,-501 55.75,-501\"/>\n<text text-anchor=\"middle\" x=\"27.88\" y=\"-483.7\" font-family=\"Times New Roman,serif\" font-size=\"14.00\">unit</text>\n<polyline fill=\"none\" stroke=\"black\" points=\"55.75,-476.5 55.75,-525.5\"/>\n<text text-anchor=\"middle\" x=\"126.38\" y=\"-495.95\" font-family=\"Times New Roman,serif\" font-size=\"14.00\">get_total_amount_sum</text>\n<polyline fill=\"none\" stroke=\"black\" points=\"197,-476.5 197,-525.5\"/>\n<text text-anchor=\"middle\" x=\"220\" y=\"-496.2\" font-family=\"Times New Roman,serif\" font-size=\"14.00\">result</text>\n</g>\n<!-- get_total_amount_sum_f3817406aec94a6c83c1da67d9228c1c&#45;&gt;add_6a83beb923704119a7f98755db388fc8 -->\n<g id=\"edge5\" class=\"edge\">\n<title>get_total_amount_sum_f3817406aec94a6c83c1da67d9228c1c:outputs_result-&gt;add_6a83beb923704119a7f98755db388fc8:inputs_4</title>\n<path fill=\"none\" stroke=\"black\" d=\"M243,-501.25C279.6,-501.25 254.96,-455.1 271.65,-426.07\"/>\n<polygon fill=\"black\" stroke=\"black\" points=\"274.19,-428.5 277.7,-418.5 268.72,-424.12 274.19,-428.5\"/>\n</g>\n<!-- get_total_amount_sum_4b0ac5e237a741dcb7f0d4d0e2e54c9e -->\n<g id=\"node6\" class=\"node\">\n<title>get_total_amount_sum_4b0ac5e237a741dcb7f0d4d0e2e54c9e</title>\n<polygon fill=\"none\" stroke=\"black\" points=\"0,-408.5 0,-457.5 243,-457.5 243,-408.5 0,-408.5\"/>\n<text text-anchor=\"middle\" x=\"27.88\" y=\"-440.2\" font-family=\"Times New Roman,serif\" font-size=\"14.00\">file_url</text>\n<polyline fill=\"none\" stroke=\"black\" points=\"0,-433 55.75,-433\"/>\n<text text-anchor=\"middle\" x=\"27.88\" y=\"-415.7\" font-family=\"Times New Roman,serif\" font-size=\"14.00\">unit</text>\n<polyline fill=\"none\" stroke=\"black\" points=\"55.75,-408.5 55.75,-457.5\"/>\n<text text-anchor=\"middle\" x=\"126.38\" y=\"-427.95\" font-family=\"Times New Roman,serif\" font-size=\"14.00\">get_total_amount_sum</text>\n<polyline fill=\"none\" stroke=\"black\" points=\"197,-408.5 197,-457.5\"/>\n<text text-anchor=\"middle\" x=\"220\" y=\"-428.2\" font-family=\"Times New Roman,serif\" font-size=\"14.00\">result</text>\n</g>\n<!-- get_total_amount_sum_4b0ac5e237a741dcb7f0d4d0e2e54c9e&#45;&gt;add_6a83beb923704119a7f98755db388fc8 -->\n<g id=\"edge6\" class=\"edge\">\n<title>get_total_amount_sum_4b0ac5e237a741dcb7f0d4d0e2e54c9e:outputs_result-&gt;add_6a83beb923704119a7f98755db388fc8:inputs_5</title>\n<path fill=\"none\" stroke=\"black\" d=\"M243,-433.25C256.06,-433.25 260.51,-427.66 268.71,-422.26\"/>\n<polygon fill=\"black\" stroke=\"black\" points=\"269.99,-425.54 277.27,-417.84 266.78,-419.32 269.99,-425.54\"/>\n</g>\n<!-- get_total_amount_sum_752cc865ea53447fa3252a4fa1c3d1c0 -->\n<g id=\"node7\" class=\"node\">\n<title>get_total_amount_sum_752cc865ea53447fa3252a4fa1c3d1c0</title>\n<polygon fill=\"none\" stroke=\"black\" points=\"0,-340.5 0,-389.5 243,-389.5 243,-340.5 0,-340.5\"/>\n<text text-anchor=\"middle\" x=\"27.88\" y=\"-372.2\" font-family=\"Times New Roman,serif\" font-size=\"14.00\">file_url</text>\n<polyline fill=\"none\" stroke=\"black\" points=\"0,-365 55.75,-365\"/>\n<text text-anchor=\"middle\" x=\"27.88\" y=\"-347.7\" font-family=\"Times New Roman,serif\" font-size=\"14.00\">unit</text>\n<polyline fill=\"none\" stroke=\"black\" points=\"55.75,-340.5 55.75,-389.5\"/>\n<text text-anchor=\"middle\" x=\"126.38\" y=\"-359.95\" font-family=\"Times New Roman,serif\" font-size=\"14.00\">get_total_amount_sum</text>\n<polyline fill=\"none\" stroke=\"black\" points=\"197,-340.5 197,-389.5\"/>\n<text text-anchor=\"middle\" x=\"220\" y=\"-360.2\" font-family=\"Times New Roman,serif\" font-size=\"14.00\">result</text>\n</g>\n<!-- get_total_amount_sum_752cc865ea53447fa3252a4fa1c3d1c0&#45;&gt;add_6a83beb923704119a7f98755db388fc8 -->\n<g id=\"edge7\" class=\"edge\">\n<title>get_total_amount_sum_752cc865ea53447fa3252a4fa1c3d1c0:outputs_result-&gt;add_6a83beb923704119a7f98755db388fc8:inputs_6</title>\n<path fill=\"none\" stroke=\"black\" d=\"M243,-365.25C256.06,-365.25 260.5,-370.88 268.7,-376.27\"/>\n<polygon fill=\"black\" stroke=\"black\" points=\"266.78,-379.21 277.27,-380.67 269.97,-372.98 266.78,-379.21\"/>\n</g>\n<!-- get_total_amount_sum_4eb779e6eb9741c08164ee316d39510c -->\n<g id=\"node8\" class=\"node\">\n<title>get_total_amount_sum_4eb779e6eb9741c08164ee316d39510c</title>\n<polygon fill=\"none\" stroke=\"black\" points=\"0,-272.5 0,-321.5 243,-321.5 243,-272.5 0,-272.5\"/>\n<text text-anchor=\"middle\" x=\"27.88\" y=\"-304.2\" font-family=\"Times New Roman,serif\" font-size=\"14.00\">file_url</text>\n<polyline fill=\"none\" stroke=\"black\" points=\"0,-297 55.75,-297\"/>\n<text text-anchor=\"middle\" x=\"27.88\" y=\"-279.7\" font-family=\"Times New Roman,serif\" font-size=\"14.00\">unit</text>\n<polyline fill=\"none\" stroke=\"black\" points=\"55.75,-272.5 55.75,-321.5\"/>\n<text text-anchor=\"middle\" x=\"126.38\" y=\"-291.95\" font-family=\"Times New Roman,serif\" font-size=\"14.00\">get_total_amount_sum</text>\n<polyline fill=\"none\" stroke=\"black\" points=\"197,-272.5 197,-321.5\"/>\n<text text-anchor=\"middle\" x=\"220\" y=\"-292.2\" font-family=\"Times New Roman,serif\" font-size=\"14.00\">result</text>\n</g>\n<!-- get_total_amount_sum_4eb779e6eb9741c08164ee316d39510c&#45;&gt;add_6a83beb923704119a7f98755db388fc8 -->\n<g id=\"edge8\" class=\"edge\">\n<title>get_total_amount_sum_4eb779e6eb9741c08164ee316d39510c:outputs_result-&gt;add_6a83beb923704119a7f98755db388fc8:inputs_7</title>\n<path fill=\"none\" stroke=\"black\" d=\"M243,-297.25C279.6,-297.25 254.88,-343.49 271.62,-372.46\"/>\n<polygon fill=\"black\" stroke=\"black\" points=\"268.7,-374.41 277.7,-380 274.15,-370.02 268.7,-374.41\"/>\n</g>\n<!-- get_total_amount_sum_b39bd96b21d64db08116126f86b5d5e9 -->\n<g id=\"node9\" class=\"node\">\n<title>get_total_amount_sum_b39bd96b21d64db08116126f86b5d5e9</title>\n<polygon fill=\"none\" stroke=\"black\" points=\"0,-204.5 0,-253.5 243,-253.5 243,-204.5 0,-204.5\"/>\n<text text-anchor=\"middle\" x=\"27.88\" y=\"-236.2\" font-family=\"Times New Roman,serif\" font-size=\"14.00\">file_url</text>\n<polyline fill=\"none\" stroke=\"black\" points=\"0,-229 55.75,-229\"/>\n<text text-anchor=\"middle\" x=\"27.88\" y=\"-211.7\" font-family=\"Times New Roman,serif\" font-size=\"14.00\">unit</text>\n<polyline fill=\"none\" stroke=\"black\" points=\"55.75,-204.5 55.75,-253.5\"/>\n<text text-anchor=\"middle\" x=\"126.38\" y=\"-223.95\" font-family=\"Times New Roman,serif\" font-size=\"14.00\">get_total_amount_sum</text>\n<polyline fill=\"none\" stroke=\"black\" points=\"197,-204.5 197,-253.5\"/>\n<text text-anchor=\"middle\" x=\"220\" y=\"-224.2\" font-family=\"Times New Roman,serif\" font-size=\"14.00\">result</text>\n</g>\n<!-- get_total_amount_sum_b39bd96b21d64db08116126f86b5d5e9&#45;&gt;add_6a83beb923704119a7f98755db388fc8 -->\n<g id=\"edge9\" class=\"edge\">\n<title>get_total_amount_sum_b39bd96b21d64db08116126f86b5d5e9:outputs_result-&gt;add_6a83beb923704119a7f98755db388fc8:inputs_8</title>\n<path fill=\"none\" stroke=\"black\" d=\"M220,-254.5C220,-265.4 235.52,-255.07 243,-263 277.82,-299.94 245.75,-336.61 271.24,-372.44\"/>\n<polygon fill=\"black\" stroke=\"black\" points=\"268.42,-374.54 277.57,-379.89 273.76,-370 268.42,-374.54\"/>\n</g>\n<!-- get_total_amount_sum_f7b4c8931d6c404ca93df2ffdb296475 -->\n<g id=\"node10\" class=\"node\">\n<title>get_total_amount_sum_f7b4c8931d6c404ca93df2ffdb296475</title>\n<polygon fill=\"none\" stroke=\"black\" points=\"0,-136.5 0,-185.5 243,-185.5 243,-136.5 0,-136.5\"/>\n<text text-anchor=\"middle\" x=\"27.88\" y=\"-168.2\" font-family=\"Times New Roman,serif\" font-size=\"14.00\">file_url</text>\n<polyline fill=\"none\" stroke=\"black\" points=\"0,-161 55.75,-161\"/>\n<text text-anchor=\"middle\" x=\"27.88\" y=\"-143.7\" font-family=\"Times New Roman,serif\" font-size=\"14.00\">unit</text>\n<polyline fill=\"none\" stroke=\"black\" points=\"55.75,-136.5 55.75,-185.5\"/>\n<text text-anchor=\"middle\" x=\"126.38\" y=\"-155.95\" font-family=\"Times New Roman,serif\" font-size=\"14.00\">get_total_amount_sum</text>\n<polyline fill=\"none\" stroke=\"black\" points=\"197,-136.5 197,-185.5\"/>\n<text text-anchor=\"middle\" x=\"220\" y=\"-156.2\" font-family=\"Times New Roman,serif\" font-size=\"14.00\">result</text>\n</g>\n<!-- get_total_amount_sum_f7b4c8931d6c404ca93df2ffdb296475&#45;&gt;add_6a83beb923704119a7f98755db388fc8 -->\n<g id=\"edge10\" class=\"edge\">\n<title>get_total_amount_sum_f7b4c8931d6c404ca93df2ffdb296475:outputs_result-&gt;add_6a83beb923704119a7f98755db388fc8:inputs_9</title>\n<path fill=\"none\" stroke=\"black\" d=\"M220,-186.5C220,-197.4 235.95,-186.69 243,-195 294.96,-256.23 229.2,-313.26 271.6,-372.39\"/>\n<polygon fill=\"black\" stroke=\"black\" points=\"268.71,-374.38 277.72,-379.96 274.15,-369.98 268.71,-374.38\"/>\n</g>\n<!-- get_total_amount_sum_8d047b2b32dd4837a1f47566ae3e209f -->\n<g id=\"node11\" class=\"node\">\n<title>get_total_amount_sum_8d047b2b32dd4837a1f47566ae3e209f</title>\n<polygon fill=\"none\" stroke=\"black\" points=\"0,-68.5 0,-117.5 243,-117.5 243,-68.5 0,-68.5\"/>\n<text text-anchor=\"middle\" x=\"27.88\" y=\"-100.2\" font-family=\"Times New Roman,serif\" font-size=\"14.00\">file_url</text>\n<polyline fill=\"none\" stroke=\"black\" points=\"0,-93 55.75,-93\"/>\n<text text-anchor=\"middle\" x=\"27.88\" y=\"-75.7\" font-family=\"Times New Roman,serif\" font-size=\"14.00\">unit</text>\n<polyline fill=\"none\" stroke=\"black\" points=\"55.75,-68.5 55.75,-117.5\"/>\n<text text-anchor=\"middle\" x=\"126.38\" y=\"-87.95\" font-family=\"Times New Roman,serif\" font-size=\"14.00\">get_total_amount_sum</text>\n<polyline fill=\"none\" stroke=\"black\" points=\"197,-68.5 197,-117.5\"/>\n<text text-anchor=\"middle\" x=\"220\" y=\"-88.2\" font-family=\"Times New Roman,serif\" font-size=\"14.00\">result</text>\n</g>\n<!-- get_total_amount_sum_8d047b2b32dd4837a1f47566ae3e209f&#45;&gt;add_6a83beb923704119a7f98755db388fc8 -->\n<g id=\"edge11\" class=\"edge\">\n<title>get_total_amount_sum_8d047b2b32dd4837a1f47566ae3e209f:outputs_result-&gt;add_6a83beb923704119a7f98755db388fc8:inputs_10</title>\n<path fill=\"none\" stroke=\"black\" d=\"M220,-118.5C220,-129.4 236.16,-118.52 243,-127 312.13,-212.72 211.94,-289.42 271.61,-372.18\"/>\n<polygon fill=\"black\" stroke=\"black\" points=\"268.69,-374.12 277.63,-379.81 274.18,-369.79 268.69,-374.12\"/>\n</g>\n<!-- get_total_amount_sum_0f10f19fd26a47afa32d22985fd4d507 -->\n<g id=\"node12\" class=\"node\">\n<title>get_total_amount_sum_0f10f19fd26a47afa32d22985fd4d507</title>\n<polygon fill=\"none\" stroke=\"black\" points=\"0,-0.5 0,-49.5 243,-49.5 243,-0.5 0,-0.5\"/>\n<text text-anchor=\"middle\" x=\"27.88\" y=\"-32.2\" font-family=\"Times New Roman,serif\" font-size=\"14.00\">file_url</text>\n<polyline fill=\"none\" stroke=\"black\" points=\"0,-25 55.75,-25\"/>\n<text text-anchor=\"middle\" x=\"27.88\" y=\"-7.7\" font-family=\"Times New Roman,serif\" font-size=\"14.00\">unit</text>\n<polyline fill=\"none\" stroke=\"black\" points=\"55.75,-0.5 55.75,-49.5\"/>\n<text text-anchor=\"middle\" x=\"126.38\" y=\"-19.95\" font-family=\"Times New Roman,serif\" font-size=\"14.00\">get_total_amount_sum</text>\n<polyline fill=\"none\" stroke=\"black\" points=\"197,-0.5 197,-49.5\"/>\n<text text-anchor=\"middle\" x=\"220\" y=\"-20.2\" font-family=\"Times New Roman,serif\" font-size=\"14.00\">result</text>\n</g>\n<!-- get_total_amount_sum_0f10f19fd26a47afa32d22985fd4d507&#45;&gt;add_6a83beb923704119a7f98755db388fc8 -->\n<g id=\"edge12\" class=\"edge\">\n<title>get_total_amount_sum_0f10f19fd26a47afa32d22985fd4d507:outputs_result-&gt;add_6a83beb923704119a7f98755db388fc8:inputs_11</title>\n<path fill=\"none\" stroke=\"black\" d=\"M220,-50.5C220,-61.4 236.28,-50.42 243,-59 329.36,-169.37 194.25,-265.52 271.68,-372.16\"/>\n<polygon fill=\"black\" stroke=\"black\" points=\"268.88,-374.26 277.8,-379.98 274.4,-369.95 268.88,-374.26\"/>\n</g>\n</g>\n</svg>"
     },
     "execution_count": 9,
     "metadata": {},
     "output_type": "execute_result"
    }
   ],
   "execution_count": 9
  },
  {
   "metadata": {},
   "cell_type": "markdown",
   "source": "Although not very useful, we can also generate and visualize a graph from a `delayed` function:",
   "id": "d478be2ff1fc8893"
  },
  {
   "metadata": {
    "ExecuteTime": {
     "end_time": "2025-04-14T14:58:59.293852Z",
     "start_time": "2025-04-14T14:58:58.906322Z"
    }
   },
   "cell_type": "code",
   "source": "get_graph_image(get_total_amount_sum.to_graph().to_dot())",
   "id": "59382145b51d5cf5",
   "outputs": [
    {
     "data": {
      "text/plain": [
       "<IPython.core.display.SVG object>"
      ],
      "image/svg+xml": "<svg xmlns=\"http://www.w3.org/2000/svg\" xmlns:xlink=\"http://www.w3.org/1999/xlink\" width=\"497pt\" height=\"98pt\" viewBox=\"0.00 0.00 497.34 98.00\">\n<g id=\"graph0\" class=\"graph\" transform=\"scale(1 1) rotate(0) translate(4 94)\">\n<title>G</title>\n<polygon fill=\"white\" stroke=\"none\" points=\"-4,4 -4,-94 493.34,-94 493.34,4 -4,4\"/>\n<!-- get_total_amount_sum -->\n<g id=\"node1\" class=\"node\">\n<title>get_total_amount_sum</title>\n<polygon fill=\"none\" stroke=\"black\" points=\"147.56,-20.5 147.56,-69.5 390.56,-69.5 390.56,-20.5 147.56,-20.5\"/>\n<text text-anchor=\"middle\" x=\"175.44\" y=\"-52.2\" font-family=\"Times New Roman,serif\" font-size=\"14.00\">file_url</text>\n<polyline fill=\"none\" stroke=\"black\" points=\"147.56,-45 203.31,-45\"/>\n<text text-anchor=\"middle\" x=\"175.44\" y=\"-27.7\" font-family=\"Times New Roman,serif\" font-size=\"14.00\">unit</text>\n<polyline fill=\"none\" stroke=\"black\" points=\"203.31,-20.5 203.31,-69.5\"/>\n<text text-anchor=\"middle\" x=\"273.94\" y=\"-39.95\" font-family=\"Times New Roman,serif\" font-size=\"14.00\">get_total_amount_sum</text>\n<polyline fill=\"none\" stroke=\"black\" points=\"344.56,-20.5 344.56,-69.5\"/>\n<text text-anchor=\"middle\" x=\"367.56\" y=\"-40.2\" font-family=\"Times New Roman,serif\" font-size=\"14.00\">result</text>\n</g>\n<!-- _e073c363db07469d8daa5887f9a5e42d -->\n<g id=\"node4\" class=\"node\">\n<title>_e073c363db07469d8daa5887f9a5e42d</title>\n<ellipse fill=\"none\" stroke=\"black\" cx=\"457.95\" cy=\"-45\" rx=\"31.39\" ry=\"18\"/>\n<text text-anchor=\"middle\" x=\"457.95\" y=\"-39.95\" font-family=\"Times New Roman,serif\" font-size=\"14.00\">result</text>\n</g>\n<!-- get_total_amount_sum&#45;&gt;_e073c363db07469d8daa5887f9a5e42d -->\n<g id=\"edge3\" class=\"edge\">\n<title>get_total_amount_sum:outputs_result-&gt;_e073c363db07469d8daa5887f9a5e42d</title>\n<path fill=\"none\" stroke=\"black\" d=\"M390.56,-45.25C398.38,-45.25 406.72,-45.23 414.76,-45.21\"/>\n<polygon fill=\"black\" stroke=\"black\" points=\"414.71,-48.71 424.7,-45.17 414.69,-41.71 414.71,-48.71\"/>\n</g>\n<!-- input_file_url -->\n<g id=\"node2\" class=\"node\">\n<title>input_file_url</title>\n<polygon fill=\"none\" stroke=\"black\" points=\"111.56,-90 22.83,-90 0,-54 88.73,-54 111.56,-90\"/>\n<text text-anchor=\"middle\" x=\"55.78\" y=\"-66.95\" font-family=\"Times New Roman,serif\" font-size=\"14.00\">file_url</text>\n</g>\n<!-- input_file_url&#45;&gt;get_total_amount_sum -->\n<g id=\"edge1\" class=\"edge\">\n<title>input_file_url-&gt;get_total_amount_sum:inputs_file_url</title>\n<path fill=\"none\" stroke=\"black\" d=\"M94.99,-62.99C107.71,-60.57 122.25,-58.4 136.37,-57.59\"/>\n<polygon fill=\"black\" stroke=\"black\" points=\"136.16,-61.09 146.05,-57.3 135.95,-54.1 136.16,-61.09\"/>\n</g>\n<!-- input_unit -->\n<g id=\"node3\" class=\"node\">\n<title>input_unit</title>\n<polygon fill=\"none\" stroke=\"black\" points=\"92.8,-36 33.91,-36 18.76,0 77.65,0 92.8,-36\"/>\n<text text-anchor=\"middle\" x=\"55.78\" y=\"-12.95\" font-family=\"Times New Roman,serif\" font-size=\"14.00\">unit</text>\n</g>\n<!-- input_unit&#45;&gt;get_total_amount_sum -->\n<g id=\"edge2\" class=\"edge\">\n<title>input_unit-&gt;get_total_amount_sum:inputs_unit</title>\n<path fill=\"none\" stroke=\"black\" d=\"M88.93,-25.81C102.96,-28.68 119.93,-31.47 136.34,-32.41\"/>\n<polygon fill=\"black\" stroke=\"black\" points=\"135.95,-35.9 146.05,-32.7 136.16,-28.91 135.95,-35.9\"/>\n</g>\n</g>\n</svg>"
     },
     "execution_count": 10,
     "metadata": {},
     "output_type": "execute_result"
    }
   ],
   "execution_count": 10
  },
  {
   "metadata": {},
   "cell_type": "markdown",
   "source": [
    "## Nested graphs\n",
    "\n",
    "What if we want to compose multiple graphs into one bigger graph? We can do that by nesting graph functions!"
   ],
   "id": "3f63e8d97c9e83d4"
  },
  {
   "metadata": {
    "ExecuteTime": {
     "end_time": "2025-04-14T14:58:59.312442Z",
     "start_time": "2025-04-14T14:58:59.308586Z"
    }
   },
   "cell_type": "code",
   "source": [
    "URL = \"https://d37ci6vzurychx.cloudfront.net/trip-data/yellow_tripdata_{year}-{month:02}.parquet\"\n",
    "\n",
    "\n",
    "@graph\n",
    "def nyc_yellow_taxi_fare_total_by_year(years, unit):\n",
    "    \"\"\"\n",
    "    Calculate the total fare amount for multiple years\n",
    "\n",
    "    :param years: A list of years for which to calculate the total fare amount\n",
    "    :param unit: The unit to divide the total amount sum by\n",
    "    :return: Total fare amounts for the given years\n",
    "    \"\"\"\n",
    "    results = []\n",
    "\n",
    "    for year in years:\n",
    "        results.append(year)\n",
    "        results.append(nyc_yellow_taxi_fare_total_for_year(year, unit))\n",
    "\n",
    "    return collect_result(*results)"
   ],
   "id": "63552d185b7bc52b",
   "outputs": [],
   "execution_count": 11
  },
  {
   "metadata": {},
   "cell_type": "markdown",
   "source": "You'll notice that when we visualize the graph that the `nyc_yellow_taxi_fare_total_for_year` function is now a node in the graph:",
   "id": "e89cbd56ea834894"
  },
  {
   "metadata": {
    "ExecuteTime": {
     "end_time": "2025-04-14T14:58:59.876123Z",
     "start_time": "2025-04-14T14:58:59.318098Z"
    }
   },
   "cell_type": "code",
   "source": [
    "get_graph_image(\n",
    "    nyc_yellow_taxi_fare_total_by_year.to_graph(years=range(2010, 2025)).to_dot()\n",
    ")"
   ],
   "id": "89296f8561deb765",
   "outputs": [
    {
     "data": {
      "text/plain": [
       "<IPython.core.display.SVG object>"
      ],
      "image/svg+xml": "<svg xmlns=\"http://www.w3.org/2000/svg\" xmlns:xlink=\"http://www.w3.org/1999/xlink\" width=\"739pt\" height=\"1626pt\" viewBox=\"0.00 0.00 738.82 1625.50\">\n<g id=\"graph0\" class=\"graph\" transform=\"scale(1 1) rotate(0) translate(4 1621.5)\">\n<title>G</title>\n<polygon fill=\"white\" stroke=\"none\" points=\"-4,4 -4,-1621.5 734.82,-1621.5 734.82,4 -4,4\"/>\n<!-- nyc_yellow_taxi_fare_total_for_year_8c48db206cd244efaa10be4bd351e580 -->\n<g id=\"node1\" class=\"node\">\n<title>nyc_yellow_taxi_fare_total_for_year_8c48db206cd244efaa10be4bd351e580</title>\n<polygon fill=\"none\" stroke=\"black\" points=\"110.04,-1581 110.04,-1617 410.04,-1617 410.04,-1581 110.04,-1581\"/>\n<text text-anchor=\"middle\" x=\"128.54\" y=\"-1594.2\" font-family=\"Times New Roman,serif\" font-size=\"14.00\">unit</text>\n<polyline fill=\"none\" stroke=\"black\" points=\"147.04,-1581.5 147.04,-1617\"/>\n<text text-anchor=\"middle\" x=\"255.54\" y=\"-1594.2\" font-family=\"Times New Roman,serif\" font-size=\"14.00\">nyc_yellow_taxi_fare_total_for_year</text>\n<polyline fill=\"none\" stroke=\"black\" points=\"364.04,-1581.5 364.04,-1617\"/>\n<text text-anchor=\"middle\" x=\"387.04\" y=\"-1594.2\" font-family=\"Times New Roman,serif\" font-size=\"14.00\">result</text>\n</g>\n<!-- collect_result_8240599c8d5e45f683995e6217a1f6dd -->\n<g id=\"node17\" class=\"node\">\n<title>collect_result_8240599c8d5e45f683995e6217a1f6dd</title>\n<polygon fill=\"none\" stroke=\"black\" points=\"446.04,-783 446.04,-819 632.04,-819 632.04,-783 446.04,-783\"/>\n<text text-anchor=\"middle\" x=\"471.67\" y=\"-796.2\" font-family=\"Times New Roman,serif\" font-size=\"14.00\">results</text>\n<polyline fill=\"none\" stroke=\"black\" points=\"497.29,-783.5 497.29,-819\"/>\n<text text-anchor=\"middle\" x=\"541.67\" y=\"-796.2\" font-family=\"Times New Roman,serif\" font-size=\"14.00\">collect_result</text>\n<polyline fill=\"none\" stroke=\"black\" points=\"586.04,-783.5 586.04,-819\"/>\n<text text-anchor=\"middle\" x=\"609.04\" y=\"-796.2\" font-family=\"Times New Roman,serif\" font-size=\"14.00\">result</text>\n</g>\n<!-- nyc_yellow_taxi_fare_total_for_year_8c48db206cd244efaa10be4bd351e580&#45;&gt;collect_result_8240599c8d5e45f683995e6217a1f6dd -->\n<g id=\"edge17\" class=\"edge\">\n<title>nyc_yellow_taxi_fare_total_for_year_8c48db206cd244efaa10be4bd351e580:outputs_result-&gt;collect_result_8240599c8d5e45f683995e6217a1f6dd:inputs_1</title>\n<path fill=\"none\" stroke=\"black\" d=\"M387.04,-1580.5C387.04,-1569.6 403.6,-1580.79 410.04,-1572 457.56,-1507.13 396.48,-931.16 440.04,-829.2\"/>\n<polygon fill=\"black\" stroke=\"black\" points=\"442.99,-831.1 444.96,-820.69 436.93,-827.59 442.99,-831.1\"/>\n</g>\n<!-- input_unit -->\n<g id=\"node2\" class=\"node\">\n<title>input_unit</title>\n<polygon fill=\"none\" stroke=\"black\" points=\"74.04,-1232 15.15,-1232 0,-1196 58.89,-1196 74.04,-1232\"/>\n<text text-anchor=\"middle\" x=\"37.02\" y=\"-1208.95\" font-family=\"Times New Roman,serif\" font-size=\"14.00\">unit</text>\n</g>\n<!-- input_unit&#45;&gt;nyc_yellow_taxi_fare_total_for_year_8c48db206cd244efaa10be4bd351e580 -->\n<g id=\"edge1\" class=\"edge\">\n<title>input_unit-&gt;nyc_yellow_taxi_fare_total_for_year_8c48db206cd244efaa10be4bd351e580:inputs_unit</title>\n<path fill=\"none\" stroke=\"black\" d=\"M39.51,-1232.19C45.19,-1297.32 67.26,-1517.93 110.04,-1572 112.15,-1574.66 115.27,-1575.25 118.36,-1575.42\"/>\n<polygon fill=\"black\" stroke=\"black\" points=\"116.68,-1578.49 127.19,-1579.82 119.8,-1572.23 116.68,-1578.49\"/>\n</g>\n<!-- nyc_yellow_taxi_fare_total_for_year_f19c85dd4fe943daab94a44c7a6d364d -->\n<g id=\"node3\" class=\"node\">\n<title>nyc_yellow_taxi_fare_total_for_year_f19c85dd4fe943daab94a44c7a6d364d</title>\n<polygon fill=\"none\" stroke=\"black\" points=\"110.04,-1526 110.04,-1562 410.04,-1562 410.04,-1526 110.04,-1526\"/>\n<text text-anchor=\"middle\" x=\"128.54\" y=\"-1539.2\" font-family=\"Times New Roman,serif\" font-size=\"14.00\">unit</text>\n<polyline fill=\"none\" stroke=\"black\" points=\"147.04,-1526.5 147.04,-1562\"/>\n<text text-anchor=\"middle\" x=\"255.54\" y=\"-1539.2\" font-family=\"Times New Roman,serif\" font-size=\"14.00\">nyc_yellow_taxi_fare_total_for_year</text>\n<polyline fill=\"none\" stroke=\"black\" points=\"364.04,-1526.5 364.04,-1562\"/>\n<text text-anchor=\"middle\" x=\"387.04\" y=\"-1539.2\" font-family=\"Times New Roman,serif\" font-size=\"14.00\">result</text>\n</g>\n<!-- input_unit&#45;&gt;nyc_yellow_taxi_fare_total_for_year_f19c85dd4fe943daab94a44c7a6d364d -->\n<g id=\"edge2\" class=\"edge\">\n<title>input_unit-&gt;nyc_yellow_taxi_fare_total_for_year_f19c85dd4fe943daab94a44c7a6d364d:inputs_unit</title>\n<path fill=\"none\" stroke=\"black\" d=\"M40.24,-1232.18C47.68,-1290.59 73.36,-1472.26 110.04,-1517 112.19,-1519.62 115.33,-1520.2 118.41,-1520.38\"/>\n<polygon fill=\"black\" stroke=\"black\" points=\"116.69,-1523.43 127.19,-1524.82 119.85,-1517.18 116.69,-1523.43\"/>\n</g>\n<!-- nyc_yellow_taxi_fare_total_for_year_4f3e2d249e5f45d3a6c6c43d96927c26 -->\n<g id=\"node4\" class=\"node\">\n<title>nyc_yellow_taxi_fare_total_for_year_4f3e2d249e5f45d3a6c6c43d96927c26</title>\n<polygon fill=\"none\" stroke=\"black\" points=\"110.04,-1471 110.04,-1507 410.04,-1507 410.04,-1471 110.04,-1471\"/>\n<text text-anchor=\"middle\" x=\"128.54\" y=\"-1484.2\" font-family=\"Times New Roman,serif\" font-size=\"14.00\">unit</text>\n<polyline fill=\"none\" stroke=\"black\" points=\"147.04,-1471.5 147.04,-1507\"/>\n<text text-anchor=\"middle\" x=\"255.54\" y=\"-1484.2\" font-family=\"Times New Roman,serif\" font-size=\"14.00\">nyc_yellow_taxi_fare_total_for_year</text>\n<polyline fill=\"none\" stroke=\"black\" points=\"364.04,-1471.5 364.04,-1507\"/>\n<text text-anchor=\"middle\" x=\"387.04\" y=\"-1484.2\" font-family=\"Times New Roman,serif\" font-size=\"14.00\">result</text>\n</g>\n<!-- input_unit&#45;&gt;nyc_yellow_taxi_fare_total_for_year_4f3e2d249e5f45d3a6c6c43d96927c26 -->\n<g id=\"edge3\" class=\"edge\">\n<title>input_unit-&gt;nyc_yellow_taxi_fare_total_for_year_4f3e2d249e5f45d3a6c6c43d96927c26:inputs_unit</title>\n<path fill=\"none\" stroke=\"black\" d=\"M38.35,-1232.29C40.1,-1276.94 50.47,-1392.89 110.04,-1462 112.26,-1464.57 115.41,-1465.14 118.49,-1465.32\"/>\n<polygon fill=\"black\" stroke=\"black\" points=\"116.7,-1468.33 127.2,-1469.81 119.91,-1462.11 116.7,-1468.33\"/>\n</g>\n<!-- nyc_yellow_taxi_fare_total_for_year_8fe11d399a064cf8a175f7196f82acdb -->\n<g id=\"node5\" class=\"node\">\n<title>nyc_yellow_taxi_fare_total_for_year_8fe11d399a064cf8a175f7196f82acdb</title>\n<polygon fill=\"none\" stroke=\"black\" points=\"110.04,-1416 110.04,-1452 410.04,-1452 410.04,-1416 110.04,-1416\"/>\n<text text-anchor=\"middle\" x=\"128.54\" y=\"-1429.2\" font-family=\"Times New Roman,serif\" font-size=\"14.00\">unit</text>\n<polyline fill=\"none\" stroke=\"black\" points=\"147.04,-1416.5 147.04,-1452\"/>\n<text text-anchor=\"middle\" x=\"255.54\" y=\"-1429.2\" font-family=\"Times New Roman,serif\" font-size=\"14.00\">nyc_yellow_taxi_fare_total_for_year</text>\n<polyline fill=\"none\" stroke=\"black\" points=\"364.04,-1416.5 364.04,-1452\"/>\n<text text-anchor=\"middle\" x=\"387.04\" y=\"-1429.2\" font-family=\"Times New Roman,serif\" font-size=\"14.00\">result</text>\n</g>\n<!-- input_unit&#45;&gt;nyc_yellow_taxi_fare_total_for_year_8fe11d399a064cf8a175f7196f82acdb -->\n<g id=\"edge4\" class=\"edge\">\n<title>input_unit-&gt;nyc_yellow_taxi_fare_total_for_year_8fe11d399a064cf8a175f7196f82acdb:inputs_unit</title>\n<path fill=\"none\" stroke=\"black\" d=\"M40.17,-1232.37C45.46,-1269.79 62.33,-1355.65 110.04,-1407 112.35,-1409.49 115.53,-1410.03 118.6,-1410.22\"/>\n<polygon fill=\"black\" stroke=\"black\" points=\"116.73,-1413.19 127.2,-1414.79 120.02,-1407.01 116.73,-1413.19\"/>\n</g>\n<!-- nyc_yellow_taxi_fare_total_for_year_33c25a8b8f24490b9c22eb2e6ca33313 -->\n<g id=\"node6\" class=\"node\">\n<title>nyc_yellow_taxi_fare_total_for_year_33c25a8b8f24490b9c22eb2e6ca33313</title>\n<polygon fill=\"none\" stroke=\"black\" points=\"110.04,-1361 110.04,-1397 410.04,-1397 410.04,-1361 110.04,-1361\"/>\n<text text-anchor=\"middle\" x=\"128.54\" y=\"-1374.2\" font-family=\"Times New Roman,serif\" font-size=\"14.00\">unit</text>\n<polyline fill=\"none\" stroke=\"black\" points=\"147.04,-1361.5 147.04,-1397\"/>\n<text text-anchor=\"middle\" x=\"255.54\" y=\"-1374.2\" font-family=\"Times New Roman,serif\" font-size=\"14.00\">nyc_yellow_taxi_fare_total_for_year</text>\n<polyline fill=\"none\" stroke=\"black\" points=\"364.04,-1361.5 364.04,-1397\"/>\n<text text-anchor=\"middle\" x=\"387.04\" y=\"-1374.2\" font-family=\"Times New Roman,serif\" font-size=\"14.00\">result</text>\n</g>\n<!-- input_unit&#45;&gt;nyc_yellow_taxi_fare_total_for_year_33c25a8b8f24490b9c22eb2e6ca33313 -->\n<g id=\"edge5\" class=\"edge\">\n<title>input_unit-&gt;nyc_yellow_taxi_fare_total_for_year_33c25a8b8f24490b9c22eb2e6ca33313:inputs_unit</title>\n<path fill=\"none\" stroke=\"black\" d=\"M43.36,-1232.48C52.57,-1261.43 74.01,-1317.73 110.04,-1352 112.5,-1354.34 115.72,-1354.85 118.78,-1355.04\"/>\n<polygon fill=\"black\" stroke=\"black\" points=\"116.78,-1357.94 127.22,-1359.76 120.2,-1351.83 116.78,-1357.94\"/>\n</g>\n<!-- nyc_yellow_taxi_fare_total_for_year_6fb0ad4e8e214b978ebee0c1ddb6df19 -->\n<g id=\"node7\" class=\"node\">\n<title>nyc_yellow_taxi_fare_total_for_year_6fb0ad4e8e214b978ebee0c1ddb6df19</title>\n<polygon fill=\"none\" stroke=\"black\" points=\"110.04,-1306 110.04,-1342 410.04,-1342 410.04,-1306 110.04,-1306\"/>\n<text text-anchor=\"middle\" x=\"128.54\" y=\"-1319.2\" font-family=\"Times New Roman,serif\" font-size=\"14.00\">unit</text>\n<polyline fill=\"none\" stroke=\"black\" points=\"147.04,-1306.5 147.04,-1342\"/>\n<text text-anchor=\"middle\" x=\"255.54\" y=\"-1319.2\" font-family=\"Times New Roman,serif\" font-size=\"14.00\">nyc_yellow_taxi_fare_total_for_year</text>\n<polyline fill=\"none\" stroke=\"black\" points=\"364.04,-1306.5 364.04,-1342\"/>\n<text text-anchor=\"middle\" x=\"387.04\" y=\"-1319.2\" font-family=\"Times New Roman,serif\" font-size=\"14.00\">result</text>\n</g>\n<!-- input_unit&#45;&gt;nyc_yellow_taxi_fare_total_for_year_6fb0ad4e8e214b978ebee0c1ddb6df19 -->\n<g id=\"edge6\" class=\"edge\">\n<title>input_unit-&gt;nyc_yellow_taxi_fare_total_for_year_6fb0ad4e8e214b978ebee0c1ddb6df19:inputs_unit</title>\n<path fill=\"none\" stroke=\"black\" d=\"M50.26,-1232.19C63.32,-1250.5 85.47,-1278.57 110.04,-1297 112.64,-1298.95 115.76,-1299.43 118.69,-1299.66\"/>\n<polygon fill=\"black\" stroke=\"black\" points=\"116.85,-1302.64 127.24,-1304.73 120.42,-1296.62 116.85,-1302.64\"/>\n</g>\n<!-- nyc_yellow_taxi_fare_total_for_year_06c7b8a6b7ee49da92c8086377e6b210 -->\n<g id=\"node8\" class=\"node\">\n<title>nyc_yellow_taxi_fare_total_for_year_06c7b8a6b7ee49da92c8086377e6b210</title>\n<polygon fill=\"none\" stroke=\"black\" points=\"110.04,-1251 110.04,-1287 410.04,-1287 410.04,-1251 110.04,-1251\"/>\n<text text-anchor=\"middle\" x=\"128.54\" y=\"-1264.2\" font-family=\"Times New Roman,serif\" font-size=\"14.00\">unit</text>\n<polyline fill=\"none\" stroke=\"black\" points=\"147.04,-1251.5 147.04,-1287\"/>\n<text text-anchor=\"middle\" x=\"255.54\" y=\"-1264.2\" font-family=\"Times New Roman,serif\" font-size=\"14.00\">nyc_yellow_taxi_fare_total_for_year</text>\n<polyline fill=\"none\" stroke=\"black\" points=\"364.04,-1251.5 364.04,-1287\"/>\n<text text-anchor=\"middle\" x=\"387.04\" y=\"-1264.2\" font-family=\"Times New Roman,serif\" font-size=\"14.00\">result</text>\n</g>\n<!-- input_unit&#45;&gt;nyc_yellow_taxi_fare_total_for_year_06c7b8a6b7ee49da92c8086377e6b210 -->\n<g id=\"edge7\" class=\"edge\">\n<title>input_unit-&gt;nyc_yellow_taxi_fare_total_for_year_06c7b8a6b7ee49da92c8086377e6b210:inputs_unit</title>\n<path fill=\"none\" stroke=\"black\" d=\"M50.9,-1232.4C61.8,-1245.96 78.79,-1262.87 98.7,-1267.83\"/>\n<polygon fill=\"black\" stroke=\"black\" points=\"98.18,-1271.29 108.54,-1269.06 99.05,-1264.34 98.18,-1271.29\"/>\n</g>\n<!-- nyc_yellow_taxi_fare_total_for_year_91ed80f9e70b4362a74e1f90813b872f -->\n<g id=\"node9\" class=\"node\">\n<title>nyc_yellow_taxi_fare_total_for_year_91ed80f9e70b4362a74e1f90813b872f</title>\n<polygon fill=\"none\" stroke=\"black\" points=\"110.04,-1196 110.04,-1232 410.04,-1232 410.04,-1196 110.04,-1196\"/>\n<text text-anchor=\"middle\" x=\"128.54\" y=\"-1209.2\" font-family=\"Times New Roman,serif\" font-size=\"14.00\">unit</text>\n<polyline fill=\"none\" stroke=\"black\" points=\"147.04,-1196.5 147.04,-1232\"/>\n<text text-anchor=\"middle\" x=\"255.54\" y=\"-1209.2\" font-family=\"Times New Roman,serif\" font-size=\"14.00\">nyc_yellow_taxi_fare_total_for_year</text>\n<polyline fill=\"none\" stroke=\"black\" points=\"364.04,-1196.5 364.04,-1232\"/>\n<text text-anchor=\"middle\" x=\"387.04\" y=\"-1209.2\" font-family=\"Times New Roman,serif\" font-size=\"14.00\">result</text>\n</g>\n<!-- input_unit&#45;&gt;nyc_yellow_taxi_fare_total_for_year_91ed80f9e70b4362a74e1f90813b872f -->\n<g id=\"edge8\" class=\"edge\">\n<title>input_unit-&gt;nyc_yellow_taxi_fare_total_for_year_91ed80f9e70b4362a74e1f90813b872f:inputs_unit</title>\n<path fill=\"none\" stroke=\"black\" d=\"M66.76,-1214.15C76.55,-1214.19 87.79,-1214.22 98.77,-1214.24\"/>\n<polygon fill=\"black\" stroke=\"black\" points=\"98.52,-1217.74 108.53,-1214.25 98.53,-1210.74 98.52,-1217.74\"/>\n</g>\n<!-- nyc_yellow_taxi_fare_total_for_year_111cb81888d848baa504eb0f3228097e -->\n<g id=\"node10\" class=\"node\">\n<title>nyc_yellow_taxi_fare_total_for_year_111cb81888d848baa504eb0f3228097e</title>\n<polygon fill=\"none\" stroke=\"black\" points=\"110.04,-1141 110.04,-1177 410.04,-1177 410.04,-1141 110.04,-1141\"/>\n<text text-anchor=\"middle\" x=\"128.54\" y=\"-1154.2\" font-family=\"Times New Roman,serif\" font-size=\"14.00\">unit</text>\n<polyline fill=\"none\" stroke=\"black\" points=\"147.04,-1141.5 147.04,-1177\"/>\n<text text-anchor=\"middle\" x=\"255.54\" y=\"-1154.2\" font-family=\"Times New Roman,serif\" font-size=\"14.00\">nyc_yellow_taxi_fare_total_for_year</text>\n<polyline fill=\"none\" stroke=\"black\" points=\"364.04,-1141.5 364.04,-1177\"/>\n<text text-anchor=\"middle\" x=\"387.04\" y=\"-1154.2\" font-family=\"Times New Roman,serif\" font-size=\"14.00\">result</text>\n</g>\n<!-- input_unit&#45;&gt;nyc_yellow_taxi_fare_total_for_year_111cb81888d848baa504eb0f3228097e -->\n<g id=\"edge9\" class=\"edge\">\n<title>input_unit-&gt;nyc_yellow_taxi_fare_total_for_year_111cb81888d848baa504eb0f3228097e:inputs_unit</title>\n<path fill=\"none\" stroke=\"black\" d=\"M50.94,-1195.77C61.86,-1182.33 78.87,-1165.57 98.73,-1160.66\"/>\n<polygon fill=\"black\" stroke=\"black\" points=\"99.05,-1164.15 108.54,-1159.44 98.18,-1157.2 99.05,-1164.15\"/>\n</g>\n<!-- nyc_yellow_taxi_fare_total_for_year_1f0d6a5e35f340f5ac022bff3a4746b3 -->\n<g id=\"node11\" class=\"node\">\n<title>nyc_yellow_taxi_fare_total_for_year_1f0d6a5e35f340f5ac022bff3a4746b3</title>\n<polygon fill=\"none\" stroke=\"black\" points=\"110.04,-1086 110.04,-1122 410.04,-1122 410.04,-1086 110.04,-1086\"/>\n<text text-anchor=\"middle\" x=\"128.54\" y=\"-1099.2\" font-family=\"Times New Roman,serif\" font-size=\"14.00\">unit</text>\n<polyline fill=\"none\" stroke=\"black\" points=\"147.04,-1086.5 147.04,-1122\"/>\n<text text-anchor=\"middle\" x=\"255.54\" y=\"-1099.2\" font-family=\"Times New Roman,serif\" font-size=\"14.00\">nyc_yellow_taxi_fare_total_for_year</text>\n<polyline fill=\"none\" stroke=\"black\" points=\"364.04,-1086.5 364.04,-1122\"/>\n<text text-anchor=\"middle\" x=\"387.04\" y=\"-1099.2\" font-family=\"Times New Roman,serif\" font-size=\"14.00\">result</text>\n</g>\n<!-- input_unit&#45;&gt;nyc_yellow_taxi_fare_total_for_year_1f0d6a5e35f340f5ac022bff3a4746b3 -->\n<g id=\"edge10\" class=\"edge\">\n<title>input_unit-&gt;nyc_yellow_taxi_fare_total_for_year_1f0d6a5e35f340f5ac022bff3a4746b3:inputs_unit</title>\n<path fill=\"none\" stroke=\"black\" d=\"M50.64,-1195.81C63.83,-1177.82 85.93,-1150.38 110.04,-1132 112.77,-1129.92 116.05,-1129.42 119.09,-1129.13\"/>\n<polygon fill=\"black\" stroke=\"black\" points=\"120.78,-1132.2 127.27,-1123.82 116.98,-1126.33 120.78,-1132.2\"/>\n</g>\n<!-- nyc_yellow_taxi_fare_total_for_year_2209041b2f064a919e3aafe1a128958e -->\n<g id=\"node12\" class=\"node\">\n<title>nyc_yellow_taxi_fare_total_for_year_2209041b2f064a919e3aafe1a128958e</title>\n<polygon fill=\"none\" stroke=\"black\" points=\"110.04,-1031 110.04,-1067 410.04,-1067 410.04,-1031 110.04,-1031\"/>\n<text text-anchor=\"middle\" x=\"128.54\" y=\"-1044.2\" font-family=\"Times New Roman,serif\" font-size=\"14.00\">unit</text>\n<polyline fill=\"none\" stroke=\"black\" points=\"147.04,-1031.5 147.04,-1067\"/>\n<text text-anchor=\"middle\" x=\"255.54\" y=\"-1044.2\" font-family=\"Times New Roman,serif\" font-size=\"14.00\">nyc_yellow_taxi_fare_total_for_year</text>\n<polyline fill=\"none\" stroke=\"black\" points=\"364.04,-1031.5 364.04,-1067\"/>\n<text text-anchor=\"middle\" x=\"387.04\" y=\"-1044.2\" font-family=\"Times New Roman,serif\" font-size=\"14.00\">result</text>\n</g>\n<!-- input_unit&#45;&gt;nyc_yellow_taxi_fare_total_for_year_2209041b2f064a919e3aafe1a128958e -->\n<g id=\"edge11\" class=\"edge\">\n<title>input_unit-&gt;nyc_yellow_taxi_fare_total_for_year_2209041b2f064a919e3aafe1a128958e:inputs_unit</title>\n<path fill=\"none\" stroke=\"black\" d=\"M43.48,-1195.75C52.86,-1167.13 74.54,-1111.41 110.04,-1077 112.5,-1074.61 115.72,-1074.04 118.78,-1073.77\"/>\n<polygon fill=\"black\" stroke=\"black\" points=\"120.41,-1076.87 127.24,-1068.77 116.85,-1070.84 120.41,-1076.87\"/>\n</g>\n<!-- nyc_yellow_taxi_fare_total_for_year_aca165bfd37a47be8a3a974965d2e9ed -->\n<g id=\"node13\" class=\"node\">\n<title>nyc_yellow_taxi_fare_total_for_year_aca165bfd37a47be8a3a974965d2e9ed</title>\n<polygon fill=\"none\" stroke=\"black\" points=\"110.04,-976 110.04,-1012 410.04,-1012 410.04,-976 110.04,-976\"/>\n<text text-anchor=\"middle\" x=\"128.54\" y=\"-989.2\" font-family=\"Times New Roman,serif\" font-size=\"14.00\">unit</text>\n<polyline fill=\"none\" stroke=\"black\" points=\"147.04,-976.5 147.04,-1012\"/>\n<text text-anchor=\"middle\" x=\"255.54\" y=\"-989.2\" font-family=\"Times New Roman,serif\" font-size=\"14.00\">nyc_yellow_taxi_fare_total_for_year</text>\n<polyline fill=\"none\" stroke=\"black\" points=\"364.04,-976.5 364.04,-1012\"/>\n<text text-anchor=\"middle\" x=\"387.04\" y=\"-989.2\" font-family=\"Times New Roman,serif\" font-size=\"14.00\">result</text>\n</g>\n<!-- input_unit&#45;&gt;nyc_yellow_taxi_fare_total_for_year_aca165bfd37a47be8a3a974965d2e9ed -->\n<g id=\"edge12\" class=\"edge\">\n<title>input_unit-&gt;nyc_yellow_taxi_fare_total_for_year_aca165bfd37a47be8a3a974965d2e9ed:inputs_unit</title>\n<path fill=\"none\" stroke=\"black\" d=\"M40.34,-1195.52C45.89,-1158.3 63.19,-1073.47 110.04,-1022 112.35,-1019.46 115.53,-1018.85 118.6,-1018.59\"/>\n<polygon fill=\"black\" stroke=\"black\" points=\"120.22,-1021.69 127.22,-1013.74 116.79,-1015.59 120.22,-1021.69\"/>\n</g>\n<!-- nyc_yellow_taxi_fare_total_for_year_2cee81f907694caaa44783c615184d4f -->\n<g id=\"node14\" class=\"node\">\n<title>nyc_yellow_taxi_fare_total_for_year_2cee81f907694caaa44783c615184d4f</title>\n<polygon fill=\"none\" stroke=\"black\" points=\"110.04,-921 110.04,-957 410.04,-957 410.04,-921 110.04,-921\"/>\n<text text-anchor=\"middle\" x=\"128.54\" y=\"-934.2\" font-family=\"Times New Roman,serif\" font-size=\"14.00\">unit</text>\n<polyline fill=\"none\" stroke=\"black\" points=\"147.04,-921.5 147.04,-957\"/>\n<text text-anchor=\"middle\" x=\"255.54\" y=\"-934.2\" font-family=\"Times New Roman,serif\" font-size=\"14.00\">nyc_yellow_taxi_fare_total_for_year</text>\n<polyline fill=\"none\" stroke=\"black\" points=\"364.04,-921.5 364.04,-957\"/>\n<text text-anchor=\"middle\" x=\"387.04\" y=\"-934.2\" font-family=\"Times New Roman,serif\" font-size=\"14.00\">result</text>\n</g>\n<!-- input_unit&#45;&gt;nyc_yellow_taxi_fare_total_for_year_2cee81f907694caaa44783c615184d4f -->\n<g id=\"edge13\" class=\"edge\">\n<title>input_unit-&gt;nyc_yellow_taxi_fare_total_for_year_2cee81f907694caaa44783c615184d4f:inputs_unit</title>\n<path fill=\"none\" stroke=\"black\" d=\"M38.48,-1195.53C40.54,-1151.01 51.57,-1036.3 110.04,-967 112.25,-964.38 115.41,-963.74 118.49,-963.49\"/>\n<polygon fill=\"black\" stroke=\"black\" points=\"120.11,-966.59 127.21,-958.73 116.76,-960.45 120.11,-966.59\"/>\n</g>\n<!-- nyc_yellow_taxi_fare_total_for_year_ba8db8e98a6d4760a7ec8f4d9cc9ea43 -->\n<g id=\"node15\" class=\"node\">\n<title>nyc_yellow_taxi_fare_total_for_year_ba8db8e98a6d4760a7ec8f4d9cc9ea43</title>\n<polygon fill=\"none\" stroke=\"black\" points=\"110.04,-866 110.04,-902 410.04,-902 410.04,-866 110.04,-866\"/>\n<text text-anchor=\"middle\" x=\"128.54\" y=\"-879.2\" font-family=\"Times New Roman,serif\" font-size=\"14.00\">unit</text>\n<polyline fill=\"none\" stroke=\"black\" points=\"147.04,-866.5 147.04,-902\"/>\n<text text-anchor=\"middle\" x=\"255.54\" y=\"-879.2\" font-family=\"Times New Roman,serif\" font-size=\"14.00\">nyc_yellow_taxi_fare_total_for_year</text>\n<polyline fill=\"none\" stroke=\"black\" points=\"364.04,-866.5 364.04,-902\"/>\n<text text-anchor=\"middle\" x=\"387.04\" y=\"-879.2\" font-family=\"Times New Roman,serif\" font-size=\"14.00\">result</text>\n</g>\n<!-- input_unit&#45;&gt;nyc_yellow_taxi_fare_total_for_year_ba8db8e98a6d4760a7ec8f4d9cc9ea43 -->\n<g id=\"edge14\" class=\"edge\">\n<title>input_unit-&gt;nyc_yellow_taxi_fare_total_for_year_ba8db8e98a6d4760a7ec8f4d9cc9ea43:inputs_unit</title>\n<path fill=\"none\" stroke=\"black\" d=\"M37.28,-1195.72C36.17,-1144.86 39.72,-999.66 110.04,-912 112.19,-909.33 115.32,-908.68 118.41,-908.43\"/>\n<polygon fill=\"black\" stroke=\"black\" points=\"120.04,-911.52 127.21,-903.71 116.74,-905.35 120.04,-911.52\"/>\n</g>\n<!-- nyc_yellow_taxi_fare_total_for_year_a061db2b922447a6923a0e80de037ba4 -->\n<g id=\"node16\" class=\"node\">\n<title>nyc_yellow_taxi_fare_total_for_year_a061db2b922447a6923a0e80de037ba4</title>\n<polygon fill=\"none\" stroke=\"black\" points=\"110.04,-811 110.04,-847 410.04,-847 410.04,-811 110.04,-811\"/>\n<text text-anchor=\"middle\" x=\"128.54\" y=\"-824.2\" font-family=\"Times New Roman,serif\" font-size=\"14.00\">unit</text>\n<polyline fill=\"none\" stroke=\"black\" points=\"147.04,-811.5 147.04,-847\"/>\n<text text-anchor=\"middle\" x=\"255.54\" y=\"-824.2\" font-family=\"Times New Roman,serif\" font-size=\"14.00\">nyc_yellow_taxi_fare_total_for_year</text>\n<polyline fill=\"none\" stroke=\"black\" points=\"364.04,-811.5 364.04,-847\"/>\n<text text-anchor=\"middle\" x=\"387.04\" y=\"-824.2\" font-family=\"Times New Roman,serif\" font-size=\"14.00\">result</text>\n</g>\n<!-- input_unit&#45;&gt;nyc_yellow_taxi_fare_total_for_year_a061db2b922447a6923a0e80de037ba4 -->\n<g id=\"edge15\" class=\"edge\">\n<title>input_unit-&gt;nyc_yellow_taxi_fare_total_for_year_a061db2b922447a6923a0e80de037ba4:inputs_unit</title>\n<path fill=\"none\" stroke=\"black\" d=\"M39.56,-1195.9C45.4,-1131.05 67.96,-911.38 110.04,-857 112.23,-854.18 115.53,-853.58 118.74,-853.36\"/>\n<polygon fill=\"black\" stroke=\"black\" points=\"120.12,-856.59 127.21,-848.73 116.76,-850.45 120.12,-856.59\"/>\n</g>\n<!-- nyc_yellow_taxi_fare_total_for_year_f19c85dd4fe943daab94a44c7a6d364d&#45;&gt;collect_result_8240599c8d5e45f683995e6217a1f6dd -->\n<g id=\"edge19\" class=\"edge\">\n<title>nyc_yellow_taxi_fare_total_for_year_f19c85dd4fe943daab94a44c7a6d364d:outputs_result-&gt;collect_result_8240599c8d5e45f683995e6217a1f6dd:inputs_3</title>\n<path fill=\"none\" stroke=\"black\" d=\"M387.04,-1525.5C387.04,-1514.6 403.58,-1525.78 410.04,-1517 499.82,-1394.93 351.7,-958.25 439.04,-828.17\"/>\n<polygon fill=\"black\" stroke=\"black\" points=\"441.57,-830.63 444.83,-820.55 435.99,-826.4 441.57,-830.63\"/>\n</g>\n<!-- nyc_yellow_taxi_fare_total_for_year_4f3e2d249e5f45d3a6c6c43d96927c26&#45;&gt;collect_result_8240599c8d5e45f683995e6217a1f6dd -->\n<g id=\"edge21\" class=\"edge\">\n<title>nyc_yellow_taxi_fare_total_for_year_4f3e2d249e5f45d3a6c6c43d96927c26:outputs_result-&gt;collect_result_8240599c8d5e45f683995e6217a1f6dd:inputs_5</title>\n<path fill=\"none\" stroke=\"black\" d=\"M387.04,-1470.5C387.04,-1459.6 403.56,-1470.76 410.04,-1462 492.85,-1349.93 359.3,-948.72 439.09,-828.16\"/>\n<polygon fill=\"black\" stroke=\"black\" points=\"441.62,-830.61 444.85,-820.52 436.03,-826.39 441.62,-830.61\"/>\n</g>\n<!-- nyc_yellow_taxi_fare_total_for_year_8fe11d399a064cf8a175f7196f82acdb&#45;&gt;collect_result_8240599c8d5e45f683995e6217a1f6dd -->\n<g id=\"edge23\" class=\"edge\">\n<title>nyc_yellow_taxi_fare_total_for_year_8fe11d399a064cf8a175f7196f82acdb:outputs_result-&gt;collect_result_8240599c8d5e45f683995e6217a1f6dd:inputs_7</title>\n<path fill=\"none\" stroke=\"black\" d=\"M387.04,-1415.5C387.04,-1404.6 403.54,-1415.75 410.04,-1407 485.83,-1304.99 367.02,-939.66 439,-828.36\"/>\n<polygon fill=\"black\" stroke=\"black\" points=\"441.69,-830.6 444.88,-820.5 436.09,-826.41 441.69,-830.6\"/>\n</g>\n<!-- nyc_yellow_taxi_fare_total_for_year_33c25a8b8f24490b9c22eb2e6ca33313&#45;&gt;collect_result_8240599c8d5e45f683995e6217a1f6dd -->\n<g id=\"edge25\" class=\"edge\">\n<title>nyc_yellow_taxi_fare_total_for_year_33c25a8b8f24490b9c22eb2e6ca33313:outputs_result-&gt;collect_result_8240599c8d5e45f683995e6217a1f6dd:inputs_9</title>\n<path fill=\"none\" stroke=\"black\" d=\"M387.04,-1360.5C387.04,-1349.6 403.51,-1360.73 410.04,-1352 478.85,-1259.99 374.58,-930.18 439.03,-828.39\"/>\n<polygon fill=\"black\" stroke=\"black\" points=\"441.76,-830.59 444.91,-820.48 436.14,-826.42 441.76,-830.59\"/>\n</g>\n<!-- nyc_yellow_taxi_fare_total_for_year_6fb0ad4e8e214b978ebee0c1ddb6df19&#45;&gt;collect_result_8240599c8d5e45f683995e6217a1f6dd -->\n<g id=\"edge27\" class=\"edge\">\n<title>nyc_yellow_taxi_fare_total_for_year_6fb0ad4e8e214b978ebee0c1ddb6df19:outputs_result-&gt;collect_result_8240599c8d5e45f683995e6217a1f6dd:inputs_11</title>\n<path fill=\"none\" stroke=\"black\" d=\"M387.04,-1305.5C387.04,-1294.6 403.48,-1305.7 410.04,-1297 471.85,-1215.01 382.14,-920.87 439.02,-828.5\"/>\n<polygon fill=\"black\" stroke=\"black\" points=\"441.66,-830.83 444.73,-820.69 436.01,-826.7 441.66,-830.83\"/>\n</g>\n<!-- nyc_yellow_taxi_fare_total_for_year_06c7b8a6b7ee49da92c8086377e6b210&#45;&gt;collect_result_8240599c8d5e45f683995e6217a1f6dd -->\n<g id=\"edge29\" class=\"edge\">\n<title>nyc_yellow_taxi_fare_total_for_year_06c7b8a6b7ee49da92c8086377e6b210:outputs_result-&gt;collect_result_8240599c8d5e45f683995e6217a1f6dd:inputs_13</title>\n<path fill=\"none\" stroke=\"black\" d=\"M387.04,-1250.5C387.04,-1239.6 403.44,-1250.67 410.04,-1242 464.86,-1170.02 389.63,-911.56 439.01,-828.63\"/>\n<polygon fill=\"black\" stroke=\"black\" points=\"441.77,-830.8 444.79,-820.64 436.09,-826.7 441.77,-830.8\"/>\n</g>\n<!-- nyc_yellow_taxi_fare_total_for_year_91ed80f9e70b4362a74e1f90813b872f&#45;&gt;collect_result_8240599c8d5e45f683995e6217a1f6dd -->\n<g id=\"edge31\" class=\"edge\">\n<title>nyc_yellow_taxi_fare_total_for_year_91ed80f9e70b4362a74e1f90813b872f:outputs_result-&gt;collect_result_8240599c8d5e45f683995e6217a1f6dd:inputs_15</title>\n<path fill=\"none\" stroke=\"black\" d=\"M387.04,-1195.5C387.04,-1184.6 403.38,-1195.63 410.04,-1187 457.89,-1124.99 396.96,-902.03 439.07,-828.68\"/>\n<polygon fill=\"black\" stroke=\"black\" points=\"441.88,-830.77 444.84,-820.59 436.18,-826.7 441.88,-830.77\"/>\n</g>\n<!-- nyc_yellow_taxi_fare_total_for_year_111cb81888d848baa504eb0f3228097e&#45;&gt;collect_result_8240599c8d5e45f683995e6217a1f6dd -->\n<g id=\"edge33\" class=\"edge\">\n<title>nyc_yellow_taxi_fare_total_for_year_111cb81888d848baa504eb0f3228097e:outputs_result-&gt;collect_result_8240599c8d5e45f683995e6217a1f6dd:inputs_17</title>\n<path fill=\"none\" stroke=\"black\" d=\"M387.04,-1140.5C387.04,-1129.6 403.31,-1140.57 410.04,-1132 493.99,-1025.09 359.22,-927.61 438.29,-828.01\"/>\n<polygon fill=\"black\" stroke=\"black\" points=\"440.93,-830.32 444.78,-820.45 435.61,-825.76 440.93,-830.32\"/>\n</g>\n<!-- nyc_yellow_taxi_fare_total_for_year_1f0d6a5e35f340f5ac022bff3a4746b3&#45;&gt;collect_result_8240599c8d5e45f683995e6217a1f6dd -->\n<g id=\"edge35\" class=\"edge\">\n<title>nyc_yellow_taxi_fare_total_for_year_1f0d6a5e35f340f5ac022bff3a4746b3:outputs_result-&gt;collect_result_8240599c8d5e45f683995e6217a1f6dd:inputs_19</title>\n<path fill=\"none\" stroke=\"black\" d=\"M387.04,-1085.5C387.04,-1074.6 403.21,-1085.49 410.04,-1077 480.09,-989.97 374.28,-908.88 438.36,-827.84\"/>\n<polygon fill=\"black\" stroke=\"black\" points=\"440.69,-830.49 444.59,-820.64 435.4,-825.91 440.69,-830.49\"/>\n</g>\n<!-- nyc_yellow_taxi_fare_total_for_year_2209041b2f064a919e3aafe1a128958e&#45;&gt;collect_result_8240599c8d5e45f683995e6217a1f6dd -->\n<g id=\"edge37\" class=\"edge\">\n<title>nyc_yellow_taxi_fare_total_for_year_2209041b2f064a919e3aafe1a128958e:outputs_result-&gt;collect_result_8240599c8d5e45f683995e6217a1f6dd:inputs_21</title>\n<path fill=\"none\" stroke=\"black\" d=\"M387.04,-1030.5C387.04,-1019.6 403.05,-1030.36 410.04,-1022 466.17,-954.84 389.27,-890.35 438.28,-827.8\"/>\n<polygon fill=\"black\" stroke=\"black\" points=\"440.7,-830.34 444.67,-820.52 435.44,-825.73 440.7,-830.34\"/>\n</g>\n<!-- nyc_yellow_taxi_fare_total_for_year_aca165bfd37a47be8a3a974965d2e9ed&#45;&gt;collect_result_8240599c8d5e45f683995e6217a1f6dd -->\n<g id=\"edge39\" class=\"edge\">\n<title>nyc_yellow_taxi_fare_total_for_year_aca165bfd37a47be8a3a974965d2e9ed:outputs_result-&gt;collect_result_8240599c8d5e45f683995e6217a1f6dd:inputs_23</title>\n<path fill=\"none\" stroke=\"black\" d=\"M387.04,-975.5C387.04,-964.6 402.79,-975.14 410.04,-967 452.26,-919.6 403.89,-872.05 438.07,-827.79\"/>\n<polygon fill=\"black\" stroke=\"black\" points=\"440.64,-830.17 444.74,-820.4 435.44,-825.48 440.64,-830.17\"/>\n</g>\n<!-- nyc_yellow_taxi_fare_total_for_year_2cee81f907694caaa44783c615184d4f&#45;&gt;collect_result_8240599c8d5e45f683995e6217a1f6dd -->\n<g id=\"edge41\" class=\"edge\">\n<title>nyc_yellow_taxi_fare_total_for_year_2cee81f907694caaa44783c615184d4f:outputs_result-&gt;collect_result_8240599c8d5e45f683995e6217a1f6dd:inputs_25</title>\n<path fill=\"none\" stroke=\"black\" d=\"M410.04,-939.25C461.59,-939.25 413.28,-868.53 438.3,-828.25\"/>\n<polygon fill=\"black\" stroke=\"black\" points=\"440.94,-830.55 444.6,-820.61 435.54,-826.1 440.94,-830.55\"/>\n</g>\n<!-- nyc_yellow_taxi_fare_total_for_year_ba8db8e98a6d4760a7ec8f4d9cc9ea43&#45;&gt;collect_result_8240599c8d5e45f683995e6217a1f6dd -->\n<g id=\"edge43\" class=\"edge\">\n<title>nyc_yellow_taxi_fare_total_for_year_ba8db8e98a6d4760a7ec8f4d9cc9ea43:outputs_result-&gt;collect_result_8240599c8d5e45f683995e6217a1f6dd:inputs_27</title>\n<path fill=\"none\" stroke=\"black\" d=\"M410.04,-884.25C438.91,-884.25 424.46,-849.48 438,-827.65\"/>\n<polygon fill=\"black\" stroke=\"black\" points=\"440.53,-830.08 444.71,-820.34 435.37,-825.35 440.53,-830.08\"/>\n</g>\n<!-- nyc_yellow_taxi_fare_total_for_year_a061db2b922447a6923a0e80de037ba4&#45;&gt;collect_result_8240599c8d5e45f683995e6217a1f6dd -->\n<g id=\"edge45\" class=\"edge\">\n<title>nyc_yellow_taxi_fare_total_for_year_a061db2b922447a6923a0e80de037ba4:outputs_result-&gt;collect_result_8240599c8d5e45f683995e6217a1f6dd:inputs_29</title>\n<path fill=\"none\" stroke=\"black\" d=\"M410.04,-829.25C422.03,-829.25 427.03,-825.93 434.95,-822.63\"/>\n<polygon fill=\"black\" stroke=\"black\" points=\"435.83,-826.03 444.23,-819.57 433.63,-819.38 435.83,-826.03\"/>\n</g>\n<!-- _27c3bfa7a0a2458b80ea0399bf0f32fa -->\n<g id=\"node33\" class=\"node\">\n<title>_27c3bfa7a0a2458b80ea0399bf0f32fa</title>\n<ellipse fill=\"none\" stroke=\"black\" cx=\"699.43\" cy=\"-801\" rx=\"31.39\" ry=\"18\"/>\n<text text-anchor=\"middle\" x=\"699.43\" y=\"-795.95\" font-family=\"Times New Roman,serif\" font-size=\"14.00\">result</text>\n</g>\n<!-- collect_result_8240599c8d5e45f683995e6217a1f6dd&#45;&gt;_27c3bfa7a0a2458b80ea0399bf0f32fa -->\n<g id=\"edge46\" class=\"edge\">\n<title>collect_result_8240599c8d5e45f683995e6217a1f6dd:outputs_result-&gt;_27c3bfa7a0a2458b80ea0399bf0f32fa</title>\n<path fill=\"none\" stroke=\"black\" d=\"M632.04,-801.25C639.86,-801.25 648.2,-801.23 656.24,-801.21\"/>\n<polygon fill=\"black\" stroke=\"black\" points=\"656.19,-804.71 666.18,-801.17 656.16,-797.71 656.19,-804.71\"/>\n</g>\n<!-- const__09eb8df583814d1482fa8e8d93c8793b -->\n<g id=\"node18\" class=\"node\">\n<title>const__09eb8df583814d1482fa8e8d93c8793b</title>\n<polygon fill=\"none\" stroke=\"black\" points=\"287.04,-792 233.04,-792 233.04,-756 287.04,-756 287.04,-792\"/>\n<text text-anchor=\"middle\" x=\"260.04\" y=\"-768.95\" font-family=\"Times New Roman,serif\" font-size=\"14.00\">2010</text>\n</g>\n<!-- const__09eb8df583814d1482fa8e8d93c8793b&#45;&gt;collect_result_8240599c8d5e45f683995e6217a1f6dd -->\n<g id=\"edge16\" class=\"edge\">\n<title>const__09eb8df583814d1482fa8e8d93c8793b-&gt;collect_result_8240599c8d5e45f683995e6217a1f6dd:inputs_0</title>\n<path fill=\"none\" stroke=\"black\" d=\"M287.44,-776.56C321.1,-779.83 381.3,-785.68 434.37,-790.83\"/>\n<polygon fill=\"black\" stroke=\"black\" points=\"433.78,-794.29 444.07,-791.78 434.46,-787.33 433.78,-794.29\"/>\n</g>\n<!-- const__dca7765823634d62b11bd7cc932decc1 -->\n<g id=\"node19\" class=\"node\">\n<title>const__dca7765823634d62b11bd7cc932decc1</title>\n<polygon fill=\"none\" stroke=\"black\" points=\"287.04,-738 233.04,-738 233.04,-702 287.04,-702 287.04,-738\"/>\n<text text-anchor=\"middle\" x=\"260.04\" y=\"-714.95\" font-family=\"Times New Roman,serif\" font-size=\"14.00\">2011</text>\n</g>\n<!-- const__dca7765823634d62b11bd7cc932decc1&#45;&gt;collect_result_8240599c8d5e45f683995e6217a1f6dd -->\n<g id=\"edge18\" class=\"edge\">\n<title>const__dca7765823634d62b11bd7cc932decc1-&gt;collect_result_8240599c8d5e45f683995e6217a1f6dd:inputs_2</title>\n<path fill=\"none\" stroke=\"black\" d=\"M287.36,-720.05C318.4,-721.13 370.75,-726.26 410.04,-747 426.13,-755.49 426.65,-766.87 436.45,-776.56\"/>\n<polygon fill=\"black\" stroke=\"black\" points=\"434.22,-779.26 444.35,-782.35 438.36,-773.62 434.22,-779.26\"/>\n</g>\n<!-- const__d91bb7be0f954c4da1446dc7cbe5f89c -->\n<g id=\"node20\" class=\"node\">\n<title>const__d91bb7be0f954c4da1446dc7cbe5f89c</title>\n<polygon fill=\"none\" stroke=\"black\" points=\"287.04,-684 233.04,-684 233.04,-648 287.04,-648 287.04,-684\"/>\n<text text-anchor=\"middle\" x=\"260.04\" y=\"-660.95\" font-family=\"Times New Roman,serif\" font-size=\"14.00\">2012</text>\n</g>\n<!-- const__d91bb7be0f954c4da1446dc7cbe5f89c&#45;&gt;collect_result_8240599c8d5e45f683995e6217a1f6dd -->\n<g id=\"edge20\" class=\"edge\">\n<title>const__d91bb7be0f954c4da1446dc7cbe5f89c-&gt;collect_result_8240599c8d5e45f683995e6217a1f6dd:inputs_4</title>\n<path fill=\"none\" stroke=\"black\" d=\"M287.34,-663.56C319.81,-662.02 375.04,-664.37 410.04,-693 440.15,-717.64 418.23,-748.86 437.74,-774.92\"/>\n<polygon fill=\"black\" stroke=\"black\" points=\"435.16,-777.28 444.6,-782.08 440.22,-772.44 435.16,-777.28\"/>\n</g>\n<!-- const__dbea3cf128994ea5b049c43f72a1f847 -->\n<g id=\"node21\" class=\"node\">\n<title>const__dbea3cf128994ea5b049c43f72a1f847</title>\n<polygon fill=\"none\" stroke=\"black\" points=\"287.04,-630 233.04,-630 233.04,-594 287.04,-594 287.04,-630\"/>\n<text text-anchor=\"middle\" x=\"260.04\" y=\"-606.95\" font-family=\"Times New Roman,serif\" font-size=\"14.00\">2013</text>\n</g>\n<!-- const__dbea3cf128994ea5b049c43f72a1f847&#45;&gt;collect_result_8240599c8d5e45f683995e6217a1f6dd -->\n<g id=\"edge22\" class=\"edge\">\n<title>const__dbea3cf128994ea5b049c43f72a1f847-&gt;collect_result_8240599c8d5e45f683995e6217a1f6dd:inputs_6</title>\n<path fill=\"none\" stroke=\"black\" d=\"M287.41,-608.87C320.48,-606.5 376.85,-607.9 410.04,-639 455.32,-681.43 405.02,-731.4 438.25,-774.91\"/>\n<polygon fill=\"black\" stroke=\"black\" points=\"435.45,-777.03 444.75,-782.11 440.65,-772.34 435.45,-777.03\"/>\n</g>\n<!-- const__eef7d01226e442848a0ea1a914f2b736 -->\n<g id=\"node22\" class=\"node\">\n<title>const__eef7d01226e442848a0ea1a914f2b736</title>\n<polygon fill=\"none\" stroke=\"black\" points=\"287.04,-576 233.04,-576 233.04,-540 287.04,-540 287.04,-576\"/>\n<text text-anchor=\"middle\" x=\"260.04\" y=\"-552.95\" font-family=\"Times New Roman,serif\" font-size=\"14.00\">2014</text>\n</g>\n<!-- const__eef7d01226e442848a0ea1a914f2b736&#45;&gt;collect_result_8240599c8d5e45f683995e6217a1f6dd -->\n<g id=\"edge24\" class=\"edge\">\n<title>const__eef7d01226e442848a0ea1a914f2b736-&gt;collect_result_8240599c8d5e45f683995e6217a1f6dd:inputs_8</title>\n<path fill=\"none\" stroke=\"black\" d=\"M287.44,-554.56C320.81,-551.81 377.79,-552.75 410.04,-585 470.48,-645.43 390.99,-713.22 438.15,-774.52\"/>\n<polygon fill=\"black\" stroke=\"black\" points=\"435.46,-776.76 444.68,-781.99 440.73,-772.16 435.46,-776.76\"/>\n</g>\n<!-- const__b4d54efc6e0b4c369aefc5b892e1285f -->\n<g id=\"node23\" class=\"node\">\n<title>const__b4d54efc6e0b4c369aefc5b892e1285f</title>\n<polygon fill=\"none\" stroke=\"black\" points=\"287.04,-522 233.04,-522 233.04,-486 287.04,-486 287.04,-522\"/>\n<text text-anchor=\"middle\" x=\"260.04\" y=\"-498.95\" font-family=\"Times New Roman,serif\" font-size=\"14.00\">2015</text>\n</g>\n<!-- const__b4d54efc6e0b4c369aefc5b892e1285f&#45;&gt;collect_result_8240599c8d5e45f683995e6217a1f6dd -->\n<g id=\"edge26\" class=\"edge\">\n<title>const__b4d54efc6e0b4c369aefc5b892e1285f-&gt;collect_result_8240599c8d5e45f683995e6217a1f6dd:inputs_10</title>\n<path fill=\"none\" stroke=\"black\" d=\"M287.34,-500.39C320.88,-497.42 378.31,-498.05 410.04,-531 485.76,-609.63 376.37,-695.01 438.13,-774.37\"/>\n<polygon fill=\"black\" stroke=\"black\" points=\"435.42,-776.58 444.6,-781.87 440.72,-772.01 435.42,-776.58\"/>\n</g>\n<!-- const__2c6144f926264c4eaa5d310d921f5438 -->\n<g id=\"node24\" class=\"node\">\n<title>const__2c6144f926264c4eaa5d310d921f5438</title>\n<polygon fill=\"none\" stroke=\"black\" points=\"287.04,-468 233.04,-468 233.04,-432 287.04,-432 287.04,-468\"/>\n<text text-anchor=\"middle\" x=\"260.04\" y=\"-444.95\" font-family=\"Times New Roman,serif\" font-size=\"14.00\">2016</text>\n</g>\n<!-- const__2c6144f926264c4eaa5d310d921f5438&#45;&gt;collect_result_8240599c8d5e45f683995e6217a1f6dd -->\n<g id=\"edge28\" class=\"edge\">\n<title>const__2c6144f926264c4eaa5d310d921f5438-&gt;collect_result_8240599c8d5e45f683995e6217a1f6dd:inputs_12</title>\n<path fill=\"none\" stroke=\"black\" d=\"M287.47,-446.27C321.14,-443.17 378.72,-443.66 410.04,-477 501.21,-574.04 361.12,-677.01 438.44,-774.68\"/>\n<polygon fill=\"black\" stroke=\"black\" points=\"435.61,-776.75 444.78,-782.06 440.92,-772.19 435.61,-776.75\"/>\n</g>\n<!-- const__86131dc187db43b69b5b127d8d96a9d3 -->\n<g id=\"node25\" class=\"node\">\n<title>const__86131dc187db43b69b5b127d8d96a9d3</title>\n<polygon fill=\"none\" stroke=\"black\" points=\"287.04,-414 233.04,-414 233.04,-378 287.04,-378 287.04,-414\"/>\n<text text-anchor=\"middle\" x=\"260.04\" y=\"-390.95\" font-family=\"Times New Roman,serif\" font-size=\"14.00\">2017</text>\n</g>\n<!-- const__86131dc187db43b69b5b127d8d96a9d3&#45;&gt;collect_result_8240599c8d5e45f683995e6217a1f6dd -->\n<g id=\"edge30\" class=\"edge\">\n<title>const__86131dc187db43b69b5b127d8d96a9d3-&gt;collect_result_8240599c8d5e45f683995e6217a1f6dd:inputs_14</title>\n<path fill=\"none\" stroke=\"black\" d=\"M287.27,-392.22C321,-388.99 378.92,-389.29 410.04,-423 462.1,-479.38 398.18,-701.92 439.21,-774.01\"/>\n<polygon fill=\"black\" stroke=\"black\" points=\"436.19,-775.8 444.84,-781.92 441.9,-771.74 436.19,-775.8\"/>\n</g>\n<!-- const__ce7b8fe18e954b4ebba7ab1871706e5a -->\n<g id=\"node26\" class=\"node\">\n<title>const__ce7b8fe18e954b4ebba7ab1871706e5a</title>\n<polygon fill=\"none\" stroke=\"black\" points=\"287.04,-360 233.04,-360 233.04,-324 287.04,-324 287.04,-360\"/>\n<text text-anchor=\"middle\" x=\"260.04\" y=\"-336.95\" font-family=\"Times New Roman,serif\" font-size=\"14.00\">2018</text>\n</g>\n<!-- const__ce7b8fe18e954b4ebba7ab1871706e5a&#45;&gt;collect_result_8240599c8d5e45f683995e6217a1f6dd -->\n<g id=\"edge32\" class=\"edge\">\n<title>const__ce7b8fe18e954b4ebba7ab1871706e5a-&gt;collect_result_8240599c8d5e45f683995e6217a1f6dd:inputs_16</title>\n<path fill=\"none\" stroke=\"black\" d=\"M287.33,-338.16C321.13,-334.87 379.14,-335.09 410.04,-369 469.71,-434.47 391.13,-692.05 439.01,-773.81\"/>\n<polygon fill=\"black\" stroke=\"black\" points=\"436.12,-775.79 444.8,-781.87 441.8,-771.7 436.12,-775.79\"/>\n</g>\n<!-- const__074af82f4e90435aa35d4343b7eb8b1c -->\n<g id=\"node27\" class=\"node\">\n<title>const__074af82f4e90435aa35d4343b7eb8b1c</title>\n<polygon fill=\"none\" stroke=\"black\" points=\"287.04,-306 233.04,-306 233.04,-270 287.04,-270 287.04,-306\"/>\n<text text-anchor=\"middle\" x=\"260.04\" y=\"-282.95\" font-family=\"Times New Roman,serif\" font-size=\"14.00\">2019</text>\n</g>\n<!-- const__074af82f4e90435aa35d4343b7eb8b1c&#45;&gt;collect_result_8240599c8d5e45f683995e6217a1f6dd -->\n<g id=\"edge34\" class=\"edge\">\n<title>const__074af82f4e90435aa35d4343b7eb8b1c-&gt;collect_result_8240599c8d5e45f683995e6217a1f6dd:inputs_18</title>\n<path fill=\"none\" stroke=\"black\" d=\"M287.38,-284.11C321.24,-280.77 379.31,-280.94 410.04,-315 477.4,-389.65 383.79,-682.86 438.99,-773.91\"/>\n<polygon fill=\"black\" stroke=\"black\" points=\"436.03,-775.79 444.74,-781.82 441.69,-771.67 436.03,-775.79\"/>\n</g>\n<!-- const__68ebe621f4614c759724696ac1ce8a30 -->\n<g id=\"node28\" class=\"node\">\n<title>const__68ebe621f4614c759724696ac1ce8a30</title>\n<polygon fill=\"none\" stroke=\"black\" points=\"287.04,-252 233.04,-252 233.04,-216 287.04,-216 287.04,-252\"/>\n<text text-anchor=\"middle\" x=\"260.04\" y=\"-228.95\" font-family=\"Times New Roman,serif\" font-size=\"14.00\">2020</text>\n</g>\n<!-- const__68ebe621f4614c759724696ac1ce8a30&#45;&gt;collect_result_8240599c8d5e45f683995e6217a1f6dd -->\n<g id=\"edge36\" class=\"edge\">\n<title>const__68ebe621f4614c759724696ac1ce8a30-&gt;collect_result_8240599c8d5e45f683995e6217a1f6dd:inputs_20</title>\n<path fill=\"none\" stroke=\"black\" d=\"M287.43,-230.07C321.33,-226.69 379.44,-226.82 410.04,-261 485.02,-344.76 376.59,-673.03 438.79,-773.7\"/>\n<polygon fill=\"black\" stroke=\"black\" points=\"435.96,-775.76 444.7,-781.77 441.61,-771.63 435.96,-775.76\"/>\n</g>\n<!-- const__896c58a9347547409289a25e5cdd555d -->\n<g id=\"node29\" class=\"node\">\n<title>const__896c58a9347547409289a25e5cdd555d</title>\n<polygon fill=\"none\" stroke=\"black\" points=\"287.04,-198 233.04,-198 233.04,-162 287.04,-162 287.04,-198\"/>\n<text text-anchor=\"middle\" x=\"260.04\" y=\"-174.95\" font-family=\"Times New Roman,serif\" font-size=\"14.00\">2021</text>\n</g>\n<!-- const__896c58a9347547409289a25e5cdd555d&#45;&gt;collect_result_8240599c8d5e45f683995e6217a1f6dd -->\n<g id=\"edge38\" class=\"edge\">\n<title>const__896c58a9347547409289a25e5cdd555d-&gt;collect_result_8240599c8d5e45f683995e6217a1f6dd:inputs_22</title>\n<path fill=\"none\" stroke=\"black\" d=\"M287.46,-176.04C321.4,-172.63 379.55,-172.72 410.04,-207 492.69,-299.92 369.22,-663.6 438.71,-773.67\"/>\n<polygon fill=\"black\" stroke=\"black\" points=\"435.89,-775.75 444.65,-781.72 441.53,-771.59 435.89,-775.75\"/>\n</g>\n<!-- const__446c367a6d2641bc8f26cdf697c29485 -->\n<g id=\"node30\" class=\"node\">\n<title>const__446c367a6d2641bc8f26cdf697c29485</title>\n<polygon fill=\"none\" stroke=\"black\" points=\"287.04,-144 233.04,-144 233.04,-108 287.04,-108 287.04,-144\"/>\n<text text-anchor=\"middle\" x=\"260.04\" y=\"-120.95\" font-family=\"Times New Roman,serif\" font-size=\"14.00\">2022</text>\n</g>\n<!-- const__446c367a6d2641bc8f26cdf697c29485&#45;&gt;collect_result_8240599c8d5e45f683995e6217a1f6dd -->\n<g id=\"edge40\" class=\"edge\">\n<title>const__446c367a6d2641bc8f26cdf697c29485-&gt;collect_result_8240599c8d5e45f683995e6217a1f6dd:inputs_24</title>\n<path fill=\"none\" stroke=\"black\" d=\"M287.49,-122.02C321.46,-118.58 379.64,-118.64 410.04,-153 500.49,-255.24 361.4,-655.37 438.98,-774.17\"/>\n<polygon fill=\"black\" stroke=\"black\" points=\"436.05,-776.09 444.86,-781.98 441.64,-771.89 436.05,-776.09\"/>\n</g>\n<!-- const__423db51e475741afbbcad946eafa0f2d -->\n<g id=\"node31\" class=\"node\">\n<title>const__423db51e475741afbbcad946eafa0f2d</title>\n<polygon fill=\"none\" stroke=\"black\" points=\"287.04,-90 233.04,-90 233.04,-54 287.04,-54 287.04,-90\"/>\n<text text-anchor=\"middle\" x=\"260.04\" y=\"-66.95\" font-family=\"Times New Roman,serif\" font-size=\"14.00\">2023</text>\n</g>\n<!-- const__423db51e475741afbbcad946eafa0f2d&#45;&gt;collect_result_8240599c8d5e45f683995e6217a1f6dd -->\n<g id=\"edge42\" class=\"edge\">\n<title>const__423db51e475741afbbcad946eafa0f2d-&gt;collect_result_8240599c8d5e45f683995e6217a1f6dd:inputs_26</title>\n<path fill=\"none\" stroke=\"black\" d=\"M287.51,-68C321.5,-64.53 379.72,-64.57 410.04,-99 508.16,-210.41 353.95,-645.96 438.91,-774.13\"/>\n<polygon fill=\"black\" stroke=\"black\" points=\"436.01,-776.09 444.83,-781.96 441.59,-771.87 436.01,-776.09\"/>\n</g>\n<!-- const__122a797dddbd474ab5f9d2c7919b9728 -->\n<g id=\"node32\" class=\"node\">\n<title>const__122a797dddbd474ab5f9d2c7919b9728</title>\n<polygon fill=\"none\" stroke=\"black\" points=\"287.04,-36 233.04,-36 233.04,0 287.04,0 287.04,-36\"/>\n<text text-anchor=\"middle\" x=\"260.04\" y=\"-12.95\" font-family=\"Times New Roman,serif\" font-size=\"14.00\">2024</text>\n</g>\n<!-- const__122a797dddbd474ab5f9d2c7919b9728&#45;&gt;collect_result_8240599c8d5e45f683995e6217a1f6dd -->\n<g id=\"edge44\" class=\"edge\">\n<title>const__122a797dddbd474ab5f9d2c7919b9728-&gt;collect_result_8240599c8d5e45f683995e6217a1f6dd:inputs_28</title>\n<path fill=\"none\" stroke=\"black\" d=\"M287.53,-13.98C321.55,-10.5 379.79,-10.51 410.04,-45 462,-104.23 397.77,-672.15 440.03,-773.19\"/>\n<polygon fill=\"black\" stroke=\"black\" points=\"436.96,-774.88 444.97,-781.82 443.04,-771.4 436.96,-774.88\"/>\n</g>\n</g>\n</svg>"
     },
     "execution_count": 12,
     "metadata": {},
     "output_type": "execute_result"
    }
   ],
   "execution_count": 12
  },
  {
   "metadata": {},
   "cell_type": "markdown",
   "source": [
    "## Executing graphs\n",
    "\n",
    "First, we need to generate the task graph:\n",
    "\n"
   ],
   "id": "bad2b037c716ffa0"
  },
  {
   "metadata": {
    "ExecuteTime": {
     "end_time": "2025-04-14T14:58:59.886230Z",
     "start_time": "2025-04-14T14:58:59.881259Z"
    }
   },
   "cell_type": "code",
   "source": [
    "task_graph, keys = nyc_yellow_taxi_fare_total_by_year.to_graph(\n",
    "    years=range(2024, 2025)\n",
    ").to_dict(unit=1_000_000)"
   ],
   "id": "e045ab2878133015",
   "outputs": [],
   "execution_count": 13
  },
  {
   "metadata": {},
   "cell_type": "markdown",
   "source": "Using `pargraph.GraphEngine`:",
   "id": "d78628f402322567"
  },
  {
   "metadata": {
    "ExecuteTime": {
     "end_time": "2025-04-14T15:00:06.111526Z",
     "start_time": "2025-04-14T14:58:59.892551Z"
    }
   },
   "cell_type": "code",
   "source": [
    "from pargraph import GraphEngine\n",
    "\n",
    "graph_engine = GraphEngine()\n",
    "result = graph_engine.get(task_graph, keys)"
   ],
   "id": "303a84db8ad1e522",
   "outputs": [],
   "execution_count": 14
  },
  {
   "metadata": {},
   "cell_type": "markdown",
   "source": "The results are:",
   "id": "93a7176bf11b9329"
  },
  {
   "metadata": {
    "ExecuteTime": {
     "end_time": "2025-04-14T15:00:06.171306Z",
     "start_time": "2025-04-14T15:00:06.165385Z"
    }
   },
   "cell_type": "code",
   "source": "result",
   "id": "edbf0b33bd117cd6",
   "outputs": [
    {
     "data": {
      "text/plain": [
       "[2024    1145.869126\n",
       " dtype: float64]"
      ]
     },
     "execution_count": 15,
     "metadata": {},
     "output_type": "execute_result"
    }
   ],
   "execution_count": 15
  },
  {
   "metadata": {},
   "cell_type": "markdown",
   "source": "The results are returned as a list due to the keys structure:",
   "id": "63538e63b325ed9"
  },
  {
   "metadata": {
    "ExecuteTime": {
     "end_time": "2025-04-14T15:00:06.305573Z",
     "start_time": "2025-04-14T15:00:06.300627Z"
    }
   },
   "cell_type": "code",
   "source": "keys",
   "id": "914f8dabd39cf4db",
   "outputs": [
    {
     "data": {
      "text/plain": [
       "['node_output_collect_result_559f87ac40c44e1d96c6c4677e9922d1']"
      ]
     },
     "execution_count": 16,
     "metadata": {},
     "output_type": "execute_result"
    }
   ],
   "execution_count": 16
  },
  {
   "metadata": {},
   "cell_type": "markdown",
   "source": "Hence, if you want to get the actual result, you can access the first element:",
   "id": "501e9778496f5916"
  },
  {
   "metadata": {
    "ExecuteTime": {
     "end_time": "2025-04-14T15:09:08.532513Z",
     "start_time": "2025-04-14T15:09:08.527775Z"
    }
   },
   "cell_type": "code",
   "source": "result[0]",
   "id": "e097ae10f050b113",
   "outputs": [
    {
     "data": {
      "text/plain": [
       "2024    1145.869126\n",
       "dtype: float64"
      ]
     },
     "execution_count": 17,
     "metadata": {},
     "output_type": "execute_result"
    }
   ],
   "execution_count": 17
  }
 ],
 "metadata": {
  "kernelspec": {
   "display_name": "Python 3",
   "language": "python",
   "name": "python3"
  },
  "language_info": {
   "codemirror_mode": {
    "name": "ipython",
    "version": 2
   },
   "file_extension": ".py",
   "mimetype": "text/x-python",
   "name": "python",
   "nbconvert_exporter": "python",
   "pygments_lexer": "ipython2",
   "version": "2.7.6"
  }
 },
 "nbformat": 4,
 "nbformat_minor": 5
}
